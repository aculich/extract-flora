{
 "cells": [
  {
   "cell_type": "code",
   "execution_count": 1,
   "metadata": {},
   "outputs": [
    {
     "name": "stdout",
     "output_type": "stream",
     "text": [
      "\u001b[33m  WARNING: Retrying (Retry(total=4, connect=None, read=None, redirect=None, status=None)) after connection broken by 'NewConnectionError('<pip._vendor.urllib3.connection.VerifiedHTTPSConnection object at 0x7ff6b6f3ec10>: Failed to establish a new connection: [Errno 8] nodename nor servname provided, or not known')': /packages/f3/89/21b42319334cc38feb935a94bedfeac85c3dbcfb69c359a1bb8a9fbc895e/PyPDF3-1.0.1.tar.gz\u001b[0m\n",
      "\u001b[33m  WARNING: Retrying (Retry(total=3, connect=None, read=None, redirect=None, status=None)) after connection broken by 'NewConnectionError('<pip._vendor.urllib3.connection.VerifiedHTTPSConnection object at 0x7ff6b6f160d0>: Failed to establish a new connection: [Errno 8] nodename nor servname provided, or not known')': /packages/f3/89/21b42319334cc38feb935a94bedfeac85c3dbcfb69c359a1bb8a9fbc895e/PyPDF3-1.0.1.tar.gz\u001b[0m\n",
      "\u001b[33m  WARNING: Retrying (Retry(total=2, connect=None, read=None, redirect=None, status=None)) after connection broken by 'NewConnectionError('<pip._vendor.urllib3.connection.VerifiedHTTPSConnection object at 0x7ff6b6f65090>: Failed to establish a new connection: [Errno 8] nodename nor servname provided, or not known')': /packages/f3/89/21b42319334cc38feb935a94bedfeac85c3dbcfb69c359a1bb8a9fbc895e/PyPDF3-1.0.1.tar.gz\u001b[0m\n",
      "\u001b[33m  WARNING: Retrying (Retry(total=1, connect=None, read=None, redirect=None, status=None)) after connection broken by 'NewConnectionError('<pip._vendor.urllib3.connection.VerifiedHTTPSConnection object at 0x7ff6b6f65350>: Failed to establish a new connection: [Errno 8] nodename nor servname provided, or not known')': /packages/f3/89/21b42319334cc38feb935a94bedfeac85c3dbcfb69c359a1bb8a9fbc895e/PyPDF3-1.0.1.tar.gz\u001b[0m\n",
      "\u001b[33m  WARNING: Retrying (Retry(total=0, connect=None, read=None, redirect=None, status=None)) after connection broken by 'NewConnectionError('<pip._vendor.urllib3.connection.VerifiedHTTPSConnection object at 0x7ff6b6f654d0>: Failed to establish a new connection: [Errno 8] nodename nor servname provided, or not known')': /packages/f3/89/21b42319334cc38feb935a94bedfeac85c3dbcfb69c359a1bb8a9fbc895e/PyPDF3-1.0.1.tar.gz\u001b[0m\n",
      "\u001b[31mERROR: Could not install packages due to an EnvironmentError: HTTPSConnectionPool(host='files.pythonhosted.org', port=443): Max retries exceeded with url: /packages/f3/89/21b42319334cc38feb935a94bedfeac85c3dbcfb69c359a1bb8a9fbc895e/PyPDF3-1.0.1.tar.gz (Caused by NewConnectionError('<pip._vendor.urllib3.connection.VerifiedHTTPSConnection object at 0x7ff6b6f65510>: Failed to establish a new connection: [Errno 8] nodename nor servname provided, or not known'))\n",
      "\u001b[0m\n"
     ]
    }
   ],
   "source": [
    "!pip install pyresparser fitz PyMuPDF pypdf3 >/dev/null             #BASH code. Run onces per computer"
   ]
  },
  {
   "cell_type": "code",
   "execution_count": 20,
   "metadata": {},
   "outputs": [
    {
     "name": "stdout",
     "output_type": "stream",
     "text": [
      "ln: ./NOUVELLE FLORE DU LIBAN ET DE LA SYRIE.pdf: File exists\r\n"
     ]
    }
   ],
   "source": [
    "!ln -s \"NOUVELLE FLORE DU LIBAN ET DE LA SYRIE.pdf\"                 #BASH code. checks if the file exists"
   ]
  },
  {
   "cell_type": "code",
   "execution_count": 21,
   "metadata": {},
   "outputs": [
    {
     "data": {
      "text/plain": [
       "['Family',\n",
       " 'Genus',\n",
       " 'epithet',\n",
       " 'author',\n",
       " 'syn.',\n",
       " 'Plate',\n",
       " 'description',\n",
       " 'Floraison',\n",
       " 'L.',\n",
       " 'S.',\n",
       " 'Aire géogr.',\n",
       " 'Notes']"
      ]
     },
     "execution_count": 21,
     "metadata": {},
     "output_type": "execute_result"
    }
   ],
   "source": [
    "#create a string object named header. \n",
    "header = 'Family\tGenus\tepithet\tauthor\tsyn.\tPlate\tdescription\tFloraison\tL.\tS.\tAire géogr.\tNotes'\n",
    "columns = header.split('\t')\n",
    "columns"
   ]
  },
  {
   "cell_type": "code",
   "execution_count": 22,
   "metadata": {},
   "outputs": [],
   "source": [
    "import fitz, pprint, re\n",
    "\n",
    "doc = fitz.open(\"NOUVELLE FLORE DU LIBAN ET DE LA SYRIE.pdf\")       #open PDF and assign variable, name it \"doc\"\n",
    "search_term = \"the\"                   #assign variable\n",
    "#dir(doc)                             #?\n",
    "#doc.getToC()                         #create a table of contents from doc file(PyMuPDF package)\n",
    "page = doc[528]                       #get the 528th item. "
   ]
  },
  {
   "cell_type": "code",
   "execution_count": 23,
   "metadata": {},
   "outputs": [],
   "source": [
    "#object.method "
   ]
  },
  {
   "cell_type": "code",
   "execution_count": 24,
   "metadata": {},
   "outputs": [],
   "source": [
    "####FUNCTION 1\n",
    "#task: go through and parse out everything to its simplest form\n",
    "\n",
    "#create a function. Opening a PDF in a text editor is not readable. this makes it so we can.  \n",
    "# https://pymupdf.readthedocs.io/en/latest/faq/#how-to-analyze-font-characteristics\n",
    "def flags_decomposer(flags):               #define a function and name it flags_decomposer\n",
    "    \"\"\"Make font flags human readable.\"\"\"\n",
    "    l = []                           #create an empty list named l\n",
    "    if flags & 2 ** 0:\n",
    "        l.append(\"superscript\")      #append \"superscript\" to the list you just created\n",
    "    if flags & 2 ** 1:\n",
    "        l.append(\"italic\")\n",
    "    if flags & 2 ** 2:\n",
    "        l.append(\"serifed\")\n",
    "    else:\n",
    "        l.append(\"sans\")\n",
    "    if flags & 2 ** 3:\n",
    "        l.append(\"monospaced\")\n",
    "    else:\n",
    "        l.append(\"proportional\")\n",
    "    if flags & 2 ** 4:\n",
    "        l.append(\"bold\")\n",
    "    return \", \".join(l)                 #return tells it to save what is produced by the function\n"
   ]
  },
  {
   "cell_type": "code",
   "execution_count": 25,
   "metadata": {},
   "outputs": [
    {
     "name": "stdout",
     "output_type": "stream",
     "text": [
      "Font: 'Times' (serifed, proportional), size 10.929, color #000000\n"
     ]
    }
   ],
   "source": [
    "####FUNCTION 2?\n",
    "class Face:                                           #creating a type object \"Face\"\n",
    "    def __init__(self, font, size, color, flags=0):   #creates an object of type Face, (default value for flags will be 0)\n",
    "        self.font = font                              #self is an argument that refers to the object. \"self\" is a part of how to make class in Python\n",
    "        self.size = size\n",
    "        self.color = color\n",
    "        self.flags = flags\n",
    "        self.style = flags_decomposer(self.flags)\n",
    "        \n",
    "    def __str__(self):                          #making a string (will be used when printing a object)\n",
    "        return f\"Font: '{self.font}' ({self.style}), size {self.size:g}, color \" + (\"#%06x\" % self.color)\n",
    "print(Face(\"Times\",10.929, 0, 4))               #making and printing a new Face object \n",
    "\n",
    "\n",
    "\n"
   ]
  },
  {
   "cell_type": "code",
   "execution_count": 26,
   "metadata": {
    "scrolled": true
   },
   "outputs": [],
   "source": [
    "###FUNCTION 3\n",
    "#write a function for pulling out font that matches how the families are written \n",
    "def isfamily(t, fp):\n",
    "    font = \"Font: 'Times-Roman' (serifed, proportional), size 10.9449, color #000000\"\n",
    "    if re.match('^[A-Z]+$', t) or str(font) == fp:\n",
    "        #print(f'''Text: {t}\\n{fp}\\n\\n''')\n",
    "        return True\n",
    "    \n"
   ]
  },
  {
   "cell_type": "code",
   "execution_count": 27,
   "metadata": {},
   "outputs": [
    {
     "name": "stdout",
     "output_type": "stream",
     "text": [
      "{'Family': None, 'Genus': None, 'epithet': None, 'author': None, 'syn.': None, 'Plate': None, 'description': None, 'Floraison': None, 'L.': None, 'S.': None, 'Aire géogr.': None, 'Notes': None}\n"
     ]
    }
   ],
   "source": [
    "item = dict.fromkeys(columns)              #make new dictionary from column values (from above) **twe will be pulling from the PDF and storing the values in this Dictionary (eventually turn this into CSV)\n",
    "print(item)"
   ]
  },
  {
   "cell_type": "code",
   "execution_count": 28,
   "metadata": {
    "scrolled": true
   },
   "outputs": [
    {
     "name": "stdout",
     "output_type": "stream",
     "text": [
      "<generator object <genexpr> at 0x7fe1f2969150>\n"
     ]
    }
   ],
   "source": [
    "p = (doc[x] for x in range(528,607))    #create a sequence of integers from 528-607\n",
    "print(p)"
   ]
  },
  {
   "cell_type": "code",
   "execution_count": 29,
   "metadata": {},
   "outputs": [],
   "source": [
    "###FUNCTION 5 \n",
    "#make floraison function                                         #define all function at one time (seperate script)\n",
    "def floraison(doc, pagenum=0, block_start=0):\n",
    "    for page in next(p):\n",
    "        blocks = page.getText(\"dict\", flags=11)[\"blocks\"]\n",
    "        for x,b in enumerate(blocks[block_start:]):              # iterate through the text blocks\n",
    "            for y,l in enumerate(b[\"lines\"]):                    # iterate through the text lines\n",
    "                for z,s in enumerate(l[\"spans\"]):                # iterate through the text spans\n",
    "                    s[\"style\"] = flags_decomposer(s[\"flags\"])    # readable font flags\n",
    "                    face = Face(s[\"font\"], s[\"size\"], s[\"color\"], s[\"flags\"])\n",
    "                    if re.match(\"Floraison\", s[\"text\"]):\n",
    "                        yield (page.number, x, y, z, s[\"text\"])\n"
   ]
  },
  {
   "cell_type": "code",
   "execution_count": 41,
   "metadata": {
    "scrolled": true
   },
   "outputs": [
    {
     "data": {
      "text/plain": [
       "<generator object <genexpr> at 0x7fe1f26feed0>"
      ]
     },
     "execution_count": 41,
     "metadata": {},
     "output_type": "execute_result"
    }
   ],
   "source": [
    "p = (doc[x] for x in range(527,529))\n",
    "p\n"
   ]
  },
  {
   "cell_type": "code",
   "execution_count": 42,
   "metadata": {},
   "outputs": [
    {
     "name": "stdout",
     "output_type": "stream",
     "text": [
      "450 \n",
      "Times-Roman\n",
      "NOUVELLE FLORE\n",
      "Times-Roman\n",
      "Portulacca\n",
      "Times-Bold\n",
      "1 18 0 1 0 Portulacca Font: 'Times-Bold' (serifed, proportional, bold), size 11, color #000000\n",
      "{'Family': 'CARYOPHYLLACEAE', 'Genus': 'Portulacca', 'epithet': ' oleracea', 'author': ' ssp.', 'syn.': None, 'Plate': None, 'description': None, 'Floraison': None, 'L.': None, 'S.': None, 'Aire géogr.': None, 'Notes': None}\n",
      "pérennante, glabre, pluricaule. Tiges charnues, 15-60 cm. de long, rougeâtres, cou-\n",
      "Times-Roman\n",
      "chées. Feuilles opposées ou subopposées, ou les inférieures alternes, vertes, sessiles\n",
      "Times-Roman\n",
      "ou très brièvement pétiolées, obovales-oblongues, un peu charnues, tronquées au\n",
      "Times-Roman\n",
      "sommet. Stipules réduites à quelques soies. Fleurs solitaires ou en groupes de 2-3\n",
      "Times-Roman\n",
      "fleurs\n",
      "Times-Roman\n",
      " dans les dichotomies, à l'aisselle des feuilles supérieures. Feuilles involucrales\n",
      "Times-Roman\n",
      "sépaloïdes, vertes, carénées, caduques après l'anthèse. Pétales jaunes, 5, rarement\n",
      "Times-Roman\n",
      "4 ou 6, libres, fugaces.\n",
      "Times-Roman\n",
      " Etamines\n",
      "Times-Roman\n",
      " 8-15. Anthères ovées, jaune d'or. Capsule membra-\n",
      "Times-Roman\n",
      "neuse, polysperme, uniloculaire, 3-7 mm. de long.\n",
      "Times-Roman\n",
      "Floraison: toute l'année. Cultures, terrains vagues.\n",
      "Times-Roman\n",
      "L.\n",
      "Times-Roman\n",
      " Ct.\n",
      "Times-Italic\n",
      " Beyrouth\n",
      "Times-Roman\n",
      " (P,\n",
      "Times-Roman\n",
      " Tylt).\n",
      "Times-Roman\n",
      " Mi.\n",
      "Times-Italic\n",
      " Qrayé\n",
      "Times-Roman\n",
      " (Nrj).\n",
      "Times-Roman\n",
      " Mm.\n",
      "Times-Italic\n",
      " Dimane\n",
      "Times-Roman\n",
      " (Bl).\n",
      "Times-Roman\n",
      " Met.\n",
      "Times-Italic\n",
      " Ta'naïl (Vt, Mt).\n",
      "Times-Roman\n",
      "S.\n",
      "Times-Roman\n",
      " Ct.\n",
      "Times-Italic\n",
      " Tartous (Pb).\n",
      "Times-Roman\n",
      " Dam.\n",
      "Times-Italic\n",
      " Damas (Pb).\n",
      "Times-Roman\n",
      " Haur.\n",
      "Times-Italic\n",
      " Qneitra\n",
      "Times-Roman\n",
      " (Pb).\n",
      "Times-Roman\n",
      " NLatt.\n",
      "Times-Italic\n",
      " Kessab (P).\n",
      "Times-Roman\n",
      " St.\n",
      "Times-Italic\n",
      " Pal-\n",
      "Times-Roman\n",
      "myre (Mt), Deir-ez-Zor (Pb).\n",
      "Times-Roman\n",
      "Aire géogr. — Subcosmique.\n",
      "Times-Roman\n",
      "MONTI\n",
      "Times-Roman\n",
      " A L. — Herbes annuelles ou vivaces, un peu charnues, aquatiques\n",
      "Times-Roman\n",
      "ou fortement hygrophiles, à feuilles opposées ou alternes. Fleurs petites, solitaires\n",
      "Times-Roman\n",
      "ou en cymes courtes, à 2, rarement 3 feuilles involucrales. Pétales 5, un peu connés\n",
      "Times-Roman\n",
      "à la base, 2 un peu plus grands que les 3 autres.\n",
      "Times-Roman\n",
      " Etamines\n",
      "Times-Roman\n",
      " 3, rarement 5. Ovaire\n",
      "Times-Roman\n",
      "supère\n",
      "Times-Roman\n",
      " uniloculaire, triovulé. Capsule membraneuse, subglobuleuse, à trois valves.\n",
      "Times-Roman\n",
      "Montia fontana L.\n",
      "Times-Bold\n",
      "8 18 0 1 0 Montia fontana L. Font: 'Times-Bold' (serifed, proportional, bold), size 10.9449, color #000000\n",
      "{'Family': 'CARYOPHYLLACEAE', 'Genus': 'Montia', 'epithet': 'fontana', 'author': ' ssp.', 'syn.': None, 'Plate': None, 'description': None, 'Floraison': None, 'L.': None, 'S.': None, 'Aire géogr.': None, 'Notes': None}\n",
      "(PI.\n",
      "Times-Roman\n",
      " CLIV, n. 7). —\n",
      "Times-Roman\n",
      " ©.\n",
      "Times-Roman\n",
      " Tiges dressées ou ascendantes sur terrains humides, ou\n",
      "Times-Roman\n",
      "flottantes, suivant l'habitat. Feuilles d'un vert jaunâtre, ainsi que la tige, plus ou\n",
      "Times-Roman\n",
      "moins jaunissantes à maturité. Fleurs latérales et terminales, petites, blanches,\n",
      "Times-Roman\n",
      "à deux feuilles involucrales sépaloïdes, arrondies, et corolle à 5 lobes inégaux,\n",
      "Times-Roman\n",
      "tubulaire à la base. Graines noires, un peu luisantes, finement tuberculées sur\n",
      "Times-Roman\n",
      "toute la surface.\n",
      "Times-Roman\n",
      "Les plants à végétation aquatique se séparent des autres par leurs tiges plus\n",
      "Times-Roman\n",
      "longues et plus fines, flottantes, leurs feuilles moins épaisses, non jaunissantes. Des\n",
      "Times-Roman\n",
      "recherches ultérieures seraient souhaitables pour établir s'il ne s'agit que d'un\n",
      "Times-Roman\n",
      "simple écotype.\n",
      "Times-Roman\n",
      "Floraison: avril-juin. Terrains siliceux ou volcaniques, très humides.\n",
      "Times-Roman\n",
      "L.\n",
      "Times-Roman\n",
      " Mi.\n",
      "Times-Italic\n",
      " Mayrouba, sur grès (Mt).\n",
      "Times-Roman\n",
      " 'Akkar.\n",
      "Times-Italic\n",
      " Vers Kouachré, sur basaltes.\n",
      "Times-Roman\n",
      "S.\n",
      "Times-Roman\n",
      " W.Homs.\n",
      "Times-Italic\n",
      " Haddidi (Sam).\n",
      "Times-Roman\n",
      " J.D.\n",
      "Times-Italic\n",
      " Soueida-Sâlé\n",
      "Times-Roman\n",
      " (Sam). La forme flottante à Kafer (Sam),\n",
      "Times-Roman\n",
      "Qanaouat,\n",
      "Times-Roman\n",
      " Er-Raha\n",
      "Times-Roman\n",
      " (Mt).\n",
      "Times-Roman\n",
      "Aire géogr. — Europe, Sibérie, Turquie, Asie centrale, Amérique septentrionale.\n",
      "Times-Roman\n",
      "CARYOPHYLLACEAE\n",
      "Times-Roman\n",
      "Plantes herbacées ou sous-frutescentes. Feuilles simples, opposées, décussées,\n",
      "Times-Roman\n",
      "très rarement alternes. Fleurs habituellement en cymes bipares, actinomorphes, le\n",
      "Times-Roman\n",
      "plus souvent hermaphrodites, parfois polygames, plus rarement dioïques. Périanthe\n",
      "Times-Roman\n",
      "simple ou double, les pétales étant alors d'origine staminale. Calice libre ou\n",
      "Times-Roman\n",
      " gamo-\n",
      "Times-Roman\n",
      "phylle. Corolle souvent onguiculée, toujours libre, et complétée parfois par des\n",
      "Times-Roman\n",
      "ligules, constituant une couronne. Fruit en capsule s'ouvrant habituellement au\n",
      "Times-Roman\n",
      "sommet, exceptionnellement une baie. \n",
      "Times-Roman\n",
      "—\n",
      "Times-Roman\n"
     ]
    }
   ],
   "source": [
    "# https://pymupdf.readthedocs.io/en/latest/faq/#how-to-analyze-font-characteristics\n",
    "page = next(p)         #Retrieve the next item from the iterator.\n",
    "\n",
    "# read page text as a dictionary, suppressing extra spaces in CJK fonts\n",
    "# these first three for loops essentially print out everything on one page. \n",
    "blocks = page.getText(\"dict\", flags=11)[\"blocks\"]\n",
    "for x,b in enumerate(blocks):             # iterate through the text blocks (defining values that x and b will take over the course of the \"for\" loop)\n",
    "    for y,l in enumerate(b[\"lines\"]):     # iterate through the text lines (iterating over the \"lines\" within \"b\")\n",
    "        for z,s in enumerate(l[\"spans\"]): # iterate through the text spans (string of characters that are sep by white space)\n",
    "                                          # \"s\" is a stand in variable for \"spans\", an unbroken set of characters that its reading from the page\n",
    "            #print(s)      #creates a dictonary per each word/set of words. Assigns a variable for each of these keys:\n",
    "                           #{size, flags, font, color, 'text', 'bbox'}            \n",
    "            s[\"style\"] = flags_decomposer(s[\"flags\"])  # from function we defined above. readable font flags\n",
    "            #print(s)       # aguments the above output with a new key, \"style\" that is more descriptive\n",
    "            face = Face(s[\"font\"], s[\"size\"], s[\"color\"], s[\"flags\"])   #use the class, Face, we created above. <class '__main__.Face'>\n",
    "            #print(face)        #output: Font: 'Times-Roman' (serifed, proportional), size 8.95489, color #000000\n",
    "                                #ie. \"face\" is all of the font information as one variable defined by the key, \"face\"? \n",
    "###Asign family to item###\n",
    "            print(s['text'])\n",
    "            print(s['font'])\n",
    "            if isfamily(s[\"text\"], face) and len(l[\"spans\"]) == 1:       #looking through one \"span\"\n",
    "                item['Family'] = s[\"text\"]\n",
    "                #print(x, len(blocks), y, z, s[\"text\"], face)             #???\n",
    "                   #output: 15 18 0 0 CARYOPHYLLACEAE Font: 'Times-Roman' (serifed, proportional), size 10.9449, color #000000\n",
    "                #print(item)\n",
    "                   #!!!!!!output: {'Family': 'CARYOPHYLLACEAE', 'Genus': None, 'epithet': None, 'author': None, 'syn.': None, 'Plate': None, 'description': None, 'Floraison': None, 'L.': None, 'S.': None, 'Aire géogr.': None, 'Notes': None}\n",
    "                break       \n",
    "            elif not item['Family']:\n",
    "                #print(item)                 #what prints is how many items are not 'family'\n",
    "                break                        #moves loop to next step/line\n",
    "###Assign Genus and epithet to item###         This can be made into a function for better readablily, esp bc this is not enough to parse all genus species out correctly   \n",
    "            elif s['font'] == 'Times-Bold':    #if the font in s is times-bold, do the following:  \n",
    "                item['Genus'], *item['epithet'] = s[\"text\"].split(' ')         #split first return in \"text.\" splits at the space, first goes into key, \"Genus\", and 2nd goes into key \"epithet\"\n",
    "                item['epithet'] = item['epithet'][0] if item['epithet'] else l[\"spans\"][1][\"text\"]   \n",
    "                currsize = s['size']                 \n",
    "                print(x, len(blocks), y, len(b[\"lines\"]), z, s[\"text\"], face)\n",
    "                \n",
    "#                 nn, xx, yy, zz, tt = next(floraison(page, x))\n",
    "#                item['Floraison'] = tt\n",
    "#                 for q in range(x, max(x+15, len(blocks))):\n",
    "#                     for ll in blocks[q][\"lines\"]:\n",
    "#                         s = ll[\"spans\"][0]\n",
    "#                         text, *rest = s['text'].split(' ')\n",
    "#                         if text == \"Floraison:\":\n",
    "#                             face = Face(s[\"font\"], s[\"size\"], s[\"color\"], s[\"flags\"])\n",
    "#                             print(face, s['text'])\n",
    "#                             for ss in ll[\"spans\"]:\n",
    "#                                 #print(ss['text'], end=\" \")\n",
    "#                                 pass\n",
    "#                 from pprint import pprint\n",
    "#                 #print(x, len(blocks), y, z, pprint(item))\n",
    "#                 #print([a[\"text\"] for a in l[\"spans\"]])\n",
    "#                 #print(); print(); \n",
    "#                 break\n",
    "                print(item) #prints in the order of the page layout\n",
    "                break\n",
    "#             elif item['Genus'] and item['epithet'] and (not item['author']) and (s['font'] == 'Times-Roman'):\n",
    "#                 item['author'] = s[\"text\"]\n",
    "#                 print(x, len(blocks), y, len(b[\"lines\"]), z, s[\"text\"], face)\n",
    "#                 break"
   ]
  },
  {
   "cell_type": "code",
   "execution_count": null,
   "metadata": {},
   "outputs": [],
   "source": []
  },
  {
   "cell_type": "code",
   "execution_count": null,
   "metadata": {},
   "outputs": [],
   "source": [
    "search = ((x, doc.searchPageFor(x, \"Floraison\", 100, False)) for x in range(516,520))"
   ]
  },
  {
   "cell_type": "code",
   "execution_count": null,
   "metadata": {
    "scrolled": true
   },
   "outputs": [],
   "source": [
    "next(search)"
   ]
  },
  {
   "cell_type": "code",
   "execution_count": null,
   "metadata": {},
   "outputs": [],
   "source": [
    "p = (doc[x] for x in range(516,520))"
   ]
  },
  {
   "cell_type": "code",
   "execution_count": 41,
   "metadata": {
    "scrolled": false
   },
   "outputs": [
    {
     "ename": "StopIteration",
     "evalue": "",
     "output_type": "error",
     "traceback": [
      "\u001b[0;31m---------------------------------------------------------------------------\u001b[0m",
      "\u001b[0;31mStopIteration\u001b[0m                             Traceback (most recent call last)",
      "\u001b[0;32m<ipython-input-41-93d6b96292b7>\u001b[0m in \u001b[0;36m<module>\u001b[0;34m\u001b[0m\n\u001b[0;32m----> 1\u001b[0;31m \u001b[0mpage\u001b[0m \u001b[0;34m=\u001b[0m \u001b[0mnext\u001b[0m\u001b[0;34m(\u001b[0m\u001b[0mp\u001b[0m\u001b[0;34m)\u001b[0m\u001b[0;34m\u001b[0m\u001b[0;34m\u001b[0m\u001b[0m\n\u001b[0m\u001b[1;32m      2\u001b[0m \u001b[0mrects\u001b[0m \u001b[0;34m=\u001b[0m \u001b[0mpage\u001b[0m\u001b[0;34m.\u001b[0m\u001b[0msearchFor\u001b[0m\u001b[0;34m(\u001b[0m\u001b[0;34m\"Floraison\"\u001b[0m\u001b[0;34m)\u001b[0m\u001b[0;34m\u001b[0m\u001b[0;34m\u001b[0m\u001b[0m\n\u001b[1;32m      3\u001b[0m \u001b[0mrects\u001b[0m\u001b[0;34m[\u001b[0m\u001b[0;36m0\u001b[0m\u001b[0;34m]\u001b[0m\u001b[0;34m\u001b[0m\u001b[0;34m\u001b[0m\u001b[0m\n",
      "\u001b[0;31mStopIteration\u001b[0m: "
     ]
    }
   ],
   "source": [
    "page = next(p)\n",
    "rects = page.searchFor(\"Floraison\")\n",
    "rects[0]"
   ]
  },
  {
   "cell_type": "code",
   "execution_count": null,
   "metadata": {
    "scrolled": true
   },
   "outputs": [],
   "source": [
    "page.getTextBlocks()"
   ]
  },
  {
   "cell_type": "code",
   "execution_count": null,
   "metadata": {},
   "outputs": [],
   "source": [
    "d = iter(doc)"
   ]
  },
  {
   "cell_type": "code",
   "execution_count": null,
   "metadata": {
    "scrolled": true
   },
   "outputs": [],
   "source": [
    "next(d).getTextBlocks()"
   ]
  },
  {
   "cell_type": "code",
   "execution_count": 42,
   "metadata": {},
   "outputs": [
    {
     "ename": "TypeError",
     "evalue": "'module' object is not callable",
     "output_type": "error",
     "traceback": [
      "\u001b[0;31m---------------------------------------------------------------------------\u001b[0m",
      "\u001b[0;31mTypeError\u001b[0m                                 Traceback (most recent call last)",
      "\u001b[0;32m<ipython-input-42-ae49e38ec83f>\u001b[0m in \u001b[0;36m<module>\u001b[0;34m\u001b[0m\n\u001b[0;32m----> 1\u001b[0;31m \u001b[0mpprint\u001b[0m\u001b[0;34m(\u001b[0m\u001b[0mp\u001b[0m\u001b[0;34m)\u001b[0m\u001b[0;34m\u001b[0m\u001b[0;34m\u001b[0m\u001b[0m\n\u001b[0m",
      "\u001b[0;31mTypeError\u001b[0m: 'module' object is not callable"
     ]
    }
   ],
   "source": [
    "pprint(p)"
   ]
  },
  {
   "cell_type": "code",
   "execution_count": null,
   "metadata": {},
   "outputs": [],
   "source": [
    "getTextBlocks621 = doc[621].getTextBlocks()"
   ]
  },
  {
   "cell_type": "code",
   "execution_count": null,
   "metadata": {},
   "outputs": [],
   "source": [
    "getText621 = doc[621].getText()"
   ]
  },
  {
   "cell_type": "code",
   "execution_count": null,
   "metadata": {
    "scrolled": true
   },
   "outputs": [],
   "source": [
    "page.getFontList()"
   ]
  },
  {
   "cell_type": "code",
   "execution_count": 9,
   "metadata": {},
   "outputs": [
    {
     "name": "stdout",
     "output_type": "stream",
     "text": [
      "Requirement already satisfied: pandas in /opt/anaconda3/lib/python3.7/site-packages (1.0.1)\r\n",
      "Requirement already satisfied: numpy>=1.13.3 in /opt/anaconda3/lib/python3.7/site-packages (from pandas) (1.18.1)\r\n",
      "Requirement already satisfied: pytz>=2017.2 in /opt/anaconda3/lib/python3.7/site-packages (from pandas) (2019.3)\r\n",
      "Requirement already satisfied: python-dateutil>=2.6.1 in /opt/anaconda3/lib/python3.7/site-packages (from pandas) (2.8.1)\r\n",
      "Requirement already satisfied: six>=1.5 in /opt/anaconda3/lib/python3.7/site-packages (from python-dateutil>=2.6.1->pandas) (1.14.0)\r\n"
     ]
    }
   ],
   "source": [
    "#write whatever data as a spreadsheet... \n",
    "#!pip install pandas                   #preinstalled with anaconda\n",
    "import pandas as pd\n",
    "p = pd.DataFrame(p)\n",
    "p.to_csv ('p.csv')"
   ]
  },
  {
   "cell_type": "code",
   "execution_count": 36,
   "metadata": {},
   "outputs": [
    {
     "data": {
      "text/html": [
       "<div>\n",
       "<style scoped>\n",
       "    .dataframe tbody tr th:only-of-type {\n",
       "        vertical-align: middle;\n",
       "    }\n",
       "\n",
       "    .dataframe tbody tr th {\n",
       "        vertical-align: top;\n",
       "    }\n",
       "\n",
       "    .dataframe thead th {\n",
       "        text-align: right;\n",
       "    }\n",
       "</style>\n",
       "<table border=\"1\" class=\"dataframe\">\n",
       "  <thead>\n",
       "    <tr style=\"text-align: right;\">\n",
       "      <th></th>\n",
       "    </tr>\n",
       "  </thead>\n",
       "  <tbody>\n",
       "  </tbody>\n",
       "</table>\n",
       "</div>"
      ],
      "text/plain": [
       "Empty DataFrame\n",
       "Columns: []\n",
       "Index: []"
      ]
     },
     "execution_count": 36,
     "metadata": {},
     "output_type": "execute_result"
    }
   ],
   "source": [
    "csv.writer(p)"
   ]
  },
  {
   "cell_type": "code",
   "execution_count": 39,
   "metadata": {},
   "outputs": [
    {
     "ename": "AttributeError",
     "evalue": "'generator' object has no attribute 'save'",
     "output_type": "error",
     "traceback": [
      "\u001b[0;31m---------------------------------------------------------------------------\u001b[0m",
      "\u001b[0;31mAttributeError\u001b[0m                            Traceback (most recent call last)",
      "\u001b[0;32m<ipython-input-39-1aecd23aeac9>\u001b[0m in \u001b[0;36m<module>\u001b[0;34m\u001b[0m\n\u001b[0;32m----> 1\u001b[0;31m \u001b[0mp\u001b[0m\u001b[0;34m.\u001b[0m\u001b[0msave\u001b[0m\u001b[0;34m(\u001b[0m\u001b[0;34m\"doc.pdf\"\u001b[0m\u001b[0;34m)\u001b[0m\u001b[0;34m\u001b[0m\u001b[0;34m\u001b[0m\u001b[0m\n\u001b[0m",
      "\u001b[0;31mAttributeError\u001b[0m: 'generator' object has no attribute 'save'"
     ]
    }
   ],
   "source": [
    "p.save(\"doc.pdf\")"
   ]
  },
  {
   "cell_type": "code",
   "execution_count": 38,
   "metadata": {},
   "outputs": [
    {
     "name": "stdout",
     "output_type": "stream",
     "text": [
      "Variable           Type         Data/Info\n",
      "-----------------------------------------\n",
      "Face               type         <class '__main__.Face'>\n",
      "columns            list         n=12\n",
      "data               dict         n=0\n",
      "doc                Document     fitz.Document('NOUVELLE F<...>IBAN ET DE LA SYRIE.pdf')\n",
      "document           str          document.pdf\n",
      "filename           str          document.pdf\n",
      "fitz               module       <module 'fitz' from '/opt<...>ckages/fitz/__init__.py'>\n",
      "flags_decomposer   function     <function flags_decomposer at 0x118a1a680>\n",
      "floraison          function     <function floraison at 0x118a1a560>\n",
      "header             str          Family\tGenus\tepithet\tauth<...>n\tL.\tS.\tAire géogr.\tNotes\n",
      "isfamily           function     <function isfamily at 0x118a1aef0>\n",
      "item               dict         n=12\n",
      "p                  generator    <generator object <genexpr> at 0x118a22d50>\n",
      "page               Page         page 528 of NOUVELLE FLOR<...> LIBAN ET DE LA SYRIE.pdf\n",
      "pd                 module       <module 'pandas' from '/o<...>ages/pandas/__init__.py'>\n",
      "pdf_document       Document     fitz.Document('document.pdf')\n",
      "pprint             module       <module 'pprint' from '/o<...>lib/python3.7/pprint.py'>\n",
      "re                 module       <module 're' from '/opt/a<...>da3/lib/python3.7/re.py'>\n",
      "search_term        str          the\n"
     ]
    }
   ],
   "source": [
    "%whos"
   ]
  },
  {
   "cell_type": "code",
   "execution_count": 33,
   "metadata": {},
   "outputs": [
    {
     "data": {
      "text/plain": [
       "[Rect(37.68000030517578, 99.17700958251953, 113.67733764648438, 113.85101318359375),\n",
       " Rect(37.91999816894531, 164.3159942626953, 94.519287109375, 179.55099487304688)]"
      ]
     },
     "execution_count": 33,
     "metadata": {},
     "output_type": "execute_result"
    }
   ],
   "source": [
    "doc.searchPageFor(528, 'Pteranthus')    #search for a string on a page"
   ]
  },
  {
   "cell_type": "code",
   "execution_count": 9,
   "metadata": {},
   "outputs": [],
   "source": [
    "import pandas as pd\n",
    "df = pd.read_excel('text_to_spreadsheet_template.xlsx')"
   ]
  },
  {
   "cell_type": "code",
   "execution_count": 10,
   "metadata": {},
   "outputs": [
    {
     "data": {
      "text/html": [
       "<div>\n",
       "<style scoped>\n",
       "    .dataframe tbody tr th:only-of-type {\n",
       "        vertical-align: middle;\n",
       "    }\n",
       "\n",
       "    .dataframe tbody tr th {\n",
       "        vertical-align: top;\n",
       "    }\n",
       "\n",
       "    .dataframe thead th {\n",
       "        text-align: right;\n",
       "    }\n",
       "</style>\n",
       "<table border=\"1\" class=\"dataframe\">\n",
       "  <thead>\n",
       "    <tr style=\"text-align: right;\">\n",
       "      <th></th>\n",
       "      <th>Family</th>\n",
       "      <th>Genus</th>\n",
       "      <th>epithet</th>\n",
       "      <th>author</th>\n",
       "      <th>syn.</th>\n",
       "      <th>Plate</th>\n",
       "      <th>description</th>\n",
       "      <th>Floraison from</th>\n",
       "      <th>Floraison to</th>\n",
       "      <th>Floraison notes</th>\n",
       "      <th>L.</th>\n",
       "      <th>S.</th>\n",
       "      <th>Aire géogr.</th>\n",
       "      <th>Notes</th>\n",
       "    </tr>\n",
       "  </thead>\n",
       "  <tbody>\n",
       "    <tr>\n",
       "      <th>0</th>\n",
       "      <td>Caryophyllaceae</td>\n",
       "      <td>Pteranthus</td>\n",
       "      <td>dichotomus</td>\n",
       "      <td>Forsk.</td>\n",
       "      <td>P. echinatus Desf.</td>\n",
       "      <td>(PI. CLV, n. 1)</td>\n",
       "      <td>0. Tige très rameuse à la base, couchée ou asc...</td>\n",
       "      <td>mars</td>\n",
       "      <td>mai</td>\n",
       "      <td>NaN</td>\n",
       "      <td>NaN</td>\n",
       "      <td>St. Palmyre (Sam, Mt, Pb), Palmyre à Arak, Bir...</td>\n",
       "      <td>Afrique du Nord, Egypte, Ethiopie, Chypre, Pal...</td>\n",
       "      <td>NaN</td>\n",
       "    </tr>\n",
       "    <tr>\n",
       "      <th>1</th>\n",
       "      <td>Caryophyllaceae</td>\n",
       "      <td>Scleranthus</td>\n",
       "      <td>orientalis</td>\n",
       "      <td>Rôssler, Phyton, Vol. 7, pp. 206-224, 1957</td>\n",
       "      <td>NaN</td>\n",
       "      <td>(PI. CLIV, n. 8)</td>\n",
       "      <td>®. Plante annuelle, 1,3 à 20 cm. de haut, non ...</td>\n",
       "      <td>mars</td>\n",
       "      <td>juin</td>\n",
       "      <td>Grès et terrains non calcaires, légèrement hyg...</td>\n",
       "      <td>Mi. Bikfaya, Mayrouba (Mt), Neba'-l-Bata, au-d...</td>\n",
       "      <td>Mi. 'Aïn Halakim (Har). A.L. Jabal Gharbi (Pr).</td>\n",
       "      <td>Erythrée, Ethiopie, Liban, Syrie, Caucase, Ira...</td>\n",
       "      <td>Les indications des Flores précédentes de Syri...</td>\n",
       "    </tr>\n",
       "    <tr>\n",
       "      <th>2</th>\n",
       "      <td>Caryophyllaceae</td>\n",
       "      <td>Scleranthus</td>\n",
       "      <td>collinus</td>\n",
       "      <td>Horn.</td>\n",
       "      <td>Scl. verticillatus Tausch</td>\n",
       "      <td>(PI. CLIV, n. 9)</td>\n",
       "      <td>®. Plante de très petite taille, 3-10 cm. Cali...</td>\n",
       "      <td>mars</td>\n",
       "      <td>mai</td>\n",
       "      <td>Régions boisées.</td>\n",
       "      <td>NaN</td>\n",
       "      <td>Mm. Slenfé (Sam).</td>\n",
       "      <td>Europe moyenne et méridionale, Turquie, Amanus.</td>\n",
       "      <td>NaN</td>\n",
       "    </tr>\n",
       "    <tr>\n",
       "      <th>3</th>\n",
       "      <td>Caryophyllaceae</td>\n",
       "      <td>Habrosia</td>\n",
       "      <td>spinuliflora</td>\n",
       "      <td>(Ser.) Fenzl</td>\n",
       "      <td>Arenaria spinuliflora Ser.</td>\n",
       "      <td>PI. CLV, n. 2)</td>\n",
       "      <td>®. Plante petite, 5-10 cm. Tige fine, glabre, ...</td>\n",
       "      <td>mars</td>\n",
       "      <td>avril.</td>\n",
       "      <td>Régions subarides et arides.</td>\n",
       "      <td>Sy. Baalbeck (P, Mt).</td>\n",
       "      <td>Sy. Alep (Rousseau, Ky, Auch, Hkn, JL, Mt), Da...</td>\n",
       "      <td>Mésopotamie, Kurdistan, Syrie, Liban, Aintab.</td>\n",
       "      <td>NaN</td>\n",
       "    </tr>\n",
       "    <tr>\n",
       "      <th>4</th>\n",
       "      <td>Caryophyllaceae</td>\n",
       "      <td>Corrigiola</td>\n",
       "      <td>littoralis</td>\n",
       "      <td>L.</td>\n",
       "      <td>NaN</td>\n",
       "      <td>(PI. CLV, n. 3).</td>\n",
       "      <td>© ou ¾. Plante verte ou\\nun peu glaucescente, ...</td>\n",
       "      <td>mars</td>\n",
       "      <td>mai.</td>\n",
       "      <td>Lieux sablonneux humides. Rare et fugace.</td>\n",
       "      <td>Ct. Beyrouth (Pr, Vt), Bouchriyé (Mt), sous Be...</td>\n",
       "      <td>NaN</td>\n",
       "      <td>Europe, Afrique du Nord, Turquie, Liban, Pales...</td>\n",
       "      <td>NaN</td>\n",
       "    </tr>\n",
       "  </tbody>\n",
       "</table>\n",
       "</div>"
      ],
      "text/plain": [
       "            Family        Genus       epithet  \\\n",
       "0  Caryophyllaceae   Pteranthus    dichotomus   \n",
       "1  Caryophyllaceae  Scleranthus    orientalis   \n",
       "2  Caryophyllaceae  Scleranthus      collinus   \n",
       "3  Caryophyllaceae     Habrosia  spinuliflora   \n",
       "4  Caryophyllaceae   Corrigiola    littoralis   \n",
       "\n",
       "                                       author                        syn.  \\\n",
       "0                                      Forsk.          P. echinatus Desf.   \n",
       "1  Rôssler, Phyton, Vol. 7, pp. 206-224, 1957                         NaN   \n",
       "2                                       Horn.   Scl. verticillatus Tausch   \n",
       "3                                (Ser.) Fenzl  Arenaria spinuliflora Ser.   \n",
       "4                                          L.                         NaN   \n",
       "\n",
       "              Plate                                        description  \\\n",
       "0   (PI. CLV, n. 1)  0. Tige très rameuse à la base, couchée ou asc...   \n",
       "1  (PI. CLIV, n. 8)  ®. Plante annuelle, 1,3 à 20 cm. de haut, non ...   \n",
       "2  (PI. CLIV, n. 9)  ®. Plante de très petite taille, 3-10 cm. Cali...   \n",
       "3    PI. CLV, n. 2)  ®. Plante petite, 5-10 cm. Tige fine, glabre, ...   \n",
       "4  (PI. CLV, n. 3).  © ou ¾. Plante verte ou\\nun peu glaucescente, ...   \n",
       "\n",
       "  Floraison from Floraison to  \\\n",
       "0           mars          mai   \n",
       "1           mars         juin   \n",
       "2           mars          mai   \n",
       "3           mars       avril.   \n",
       "4           mars         mai.   \n",
       "\n",
       "                                     Floraison notes  \\\n",
       "0                                                NaN   \n",
       "1  Grès et terrains non calcaires, légèrement hyg...   \n",
       "2                                   Régions boisées.   \n",
       "3                       Régions subarides et arides.   \n",
       "4          Lieux sablonneux humides. Rare et fugace.   \n",
       "\n",
       "                                                  L.  \\\n",
       "0                                                NaN   \n",
       "1  Mi. Bikfaya, Mayrouba (Mt), Neba'-l-Bata, au-d...   \n",
       "2                                                NaN   \n",
       "3                              Sy. Baalbeck (P, Mt).   \n",
       "4  Ct. Beyrouth (Pr, Vt), Bouchriyé (Mt), sous Be...   \n",
       "\n",
       "                                                  S.  \\\n",
       "0  St. Palmyre (Sam, Mt, Pb), Palmyre à Arak, Bir...   \n",
       "1    Mi. 'Aïn Halakim (Har). A.L. Jabal Gharbi (Pr).   \n",
       "2                                  Mm. Slenfé (Sam).   \n",
       "3  Sy. Alep (Rousseau, Ky, Auch, Hkn, JL, Mt), Da...   \n",
       "4                                                NaN   \n",
       "\n",
       "                                         Aire géogr.  \\\n",
       "0  Afrique du Nord, Egypte, Ethiopie, Chypre, Pal...   \n",
       "1  Erythrée, Ethiopie, Liban, Syrie, Caucase, Ira...   \n",
       "2    Europe moyenne et méridionale, Turquie, Amanus.   \n",
       "3      Mésopotamie, Kurdistan, Syrie, Liban, Aintab.   \n",
       "4  Europe, Afrique du Nord, Turquie, Liban, Pales...   \n",
       "\n",
       "                                               Notes  \n",
       "0                                                NaN  \n",
       "1  Les indications des Flores précédentes de Syri...  \n",
       "2                                                NaN  \n",
       "3                                                NaN  \n",
       "4                                                NaN  "
      ]
     },
     "execution_count": 10,
     "metadata": {},
     "output_type": "execute_result"
    }
   ],
   "source": [
    "df"
   ]
  },
  {
   "cell_type": "code",
   "execution_count": null,
   "metadata": {},
   "outputs": [],
   "source": [
    "\"\"\"\n",
    "<</Ascent 930/CapHeight 905/Descent 240/Flags 32/FontBBox[-80 -240 1245 930]/FontFile 48614 0 R/FontName/HFJIZK+Helvetica/ItalicAngle 0/StemV 80/Type/FontDescriptor>>\n",
    "/FontName /HFJIZK+Helvetica def\n",
    "<</Ascent 920/CapHeight 905/Descent 260/Flags 32/FontBBox[-80 -260 1245 920]/FontFile 48596 0 R/FontName/RXDRFC+Helvetica/ItalicAngle 0/StemV 80/Type/FontDescriptor>>\n",
    "/FontName /RXDRFC+Helvetica def\n",
    "<</Ascent 942/CapHeight 891/Descent 211/Flags 34/FontBBox[-85 -211 1183 942]/FontFile 48558 0 R/FontName/VHVHMH+Times-Bold/ItalicAngle 0/StemV 131/Type/FontDescriptor>>\n",
    "/FontName /VHVHMH+Times-Bold def\n",
    "<</Ascent 912/CapHeight 891/Descent 211/Flags 98/FontBBox[-184 -211 1229 912]/FontFile 48548 0 R/FontName/CPDYZV+Times-Italic/ItalicAngle -161/StemV 73/Type/FontDescriptor>>\n",
    "/FontName /CPDYZV+Times-Italic def\n",
    "<</Ascent 912/CapHeight 891/Descent 211/Flags 34/FontBBox[-86 -211 1166 912]/FontFile 48539 0 R/FontName/ETVWNV+Times-Roman/ItalicAngle 0/StemV 73/Type/FontDescriptor>>\n",
    "/FontName /ETVWNV+Times-Roman def\n",
    "<</Ascent 955/CapHeight 891/Descent 302/Flags 98/FontBBox[-165 -302 1258 955]/FontFile 48605 0 R/FontName/TCNEMC+Times-BoldItalic/ItalicAngle -161/StemV 131/Type/FontDescriptor>>\n",
    "/FontName /TCNEMC+Times-BoldItalic def\n",
    "<</Ascent 962/CapHeight 891/Descent 304/Flags 34/FontBBox[-85 -304 1183 962]/FontFile 48568 0 R/FontName/XTFERS+Times-Bold/ItalicAngle 0/StemV 131/Type/FontDescriptor>>\n",
    "/FontName /XTFERS+Times-Bold def\n",
    "<</Ascent 962/CapHeight 891/Descent 283/Flags 98/FontBBox[-184 -283 1229 962]/FontFile 48519 0 R/FontName/KLTUIO+Times-Italic/ItalicAngle -161/StemV 73/Type/FontDescriptor>>\n",
    "/FontName /KLTUIO+Times-Italic def\n",
    "<</Ascent 959/CapHeight 891/Descent 322/Flags 34/FontBBox[-86 -322 1166 959]/FontFile 48528 0 R/FontName/QKXTUK+Times-Roman/ItalicAngle 0/StemV 73/Type/FontDescriptor>>\n",
    "/FontName /QKXTUK+Times-Roman def\n",
    "<</Ascent 848/CapHeight 891/Descent 211/Flags 98/FontBBox[-171 -211 1229 848]/FontFile 48577 0 R/FontName/RCBBCE+Times-Italic/ItalicAngle -161/StemV 73/Type/FontDescriptor>>\n",
    "/FontName /RCBBCE+Times-Italic def\n",
    "<</Ascent 851/CapHeight 891/Descent 211/Flags 34/FontBBox[-86 -211 1166 851]/FontFile 48586 0 R/FontName/OYLUZG+Times-Roman/ItalicAngle 0/StemV 73/Type/FontDescriptor>>\n",
    "/FontName /OYLUZG+Times-Roman def\n",
    "\"\"\""
   ]
  }
 ],
 "metadata": {
  "kernelspec": {
   "display_name": "Python 3",
   "language": "python",
   "name": "python3"
  },
  "language_info": {
   "codemirror_mode": {
    "name": "ipython",
    "version": 3
   },
   "file_extension": ".py",
   "mimetype": "text/x-python",
   "name": "python",
   "nbconvert_exporter": "python",
   "pygments_lexer": "ipython3",
   "version": "3.7.4"
  }
 },
 "nbformat": 4,
 "nbformat_minor": 2
}
