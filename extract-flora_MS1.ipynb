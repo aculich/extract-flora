{
 "cells": [
  {
   "cell_type": "code",
   "execution_count": 1,
   "metadata": {},
   "outputs": [],
   "source": [
    "!pip install pyresparser fitz PyMuPDF pypdf3 >/dev/null             #BASH code. Run onces per computer"
   ]
  },
  {
   "cell_type": "code",
   "execution_count": 2,
   "metadata": {},
   "outputs": [
    {
     "name": "stdout",
     "output_type": "stream",
     "text": [
      "ln: ./NOUVELLE FLORE DU LIBAN ET DE LA SYRIE.pdf: File exists\r\n"
     ]
    }
   ],
   "source": [
    "!ln -s \"NOUVELLE FLORE DU LIBAN ET DE LA SYRIE.pdf\"                 #BASH code. checks if the file exists"
   ]
  },
  {
   "cell_type": "code",
   "execution_count": 3,
   "metadata": {},
   "outputs": [
    {
     "data": {
      "text/plain": [
       "['Family',\n",
       " 'Genus',\n",
       " 'epithet',\n",
       " 'author',\n",
       " 'syn.',\n",
       " 'Plate',\n",
       " 'description',\n",
       " 'Floraison',\n",
       " 'L.',\n",
       " 'S.',\n",
       " 'Aire géogr.',\n",
       " 'Notes']"
      ]
     },
     "execution_count": 3,
     "metadata": {},
     "output_type": "execute_result"
    }
   ],
   "source": [
    "#create a string object named header. \n",
    "header = 'Family\tGenus\tepithet\tauthor\tsyn.\tPlate\tdescription\tFloraison\tL.\tS.\tAire géogr.\tNotes'\n",
    "columns = header.split('\t')\n",
    "columns"
   ]
  },
  {
   "cell_type": "code",
   "execution_count": 4,
   "metadata": {},
   "outputs": [],
   "source": [
    "import fitz, pprint, re\n",
    "\n",
    "doc = fitz.open(\"NOUVELLE FLORE DU LIBAN ET DE LA SYRIE.pdf\")       #open PDF and assign variable, name it \"doc\"\n",
    "search_term = \"the\"                   #assign variable\n",
    "#dir(doc)                             #?\n",
    "#doc.getToC()                         #create a table of contents from doc file(PyMuPDF package)\n",
    "page = doc[528]                       #get the 528th item. "
   ]
  },
  {
   "cell_type": "code",
   "execution_count": null,
   "metadata": {},
   "outputs": [],
   "source": [
    "#object.method "
   ]
  },
  {
   "cell_type": "code",
   "execution_count": 5,
   "metadata": {},
   "outputs": [],
   "source": [
    "####FUNCTION 1\n",
    "#task: go through and parse out everything to its simplest form\n",
    "\n",
    "#create a function. Opening a PDF in a text editor is not readable. this makes it so we can.  \n",
    "# https://pymupdf.readthedocs.io/en/latest/faq/#how-to-analyze-font-characteristics\n",
    "def flags_decomposer(flags):               #define a function and name it flags_decomposer\n",
    "    \"\"\"Make font flags human readable.\"\"\"\n",
    "    l = []                           #create an empty list named l\n",
    "    if flags & 2 ** 0:\n",
    "        l.append(\"superscript\")      #append \"superscript\" to the list you just created\n",
    "    if flags & 2 ** 1:\n",
    "        l.append(\"italic\")\n",
    "    if flags & 2 ** 2:\n",
    "        l.append(\"serifed\")\n",
    "    else:\n",
    "        l.append(\"sans\")\n",
    "    if flags & 2 ** 3:\n",
    "        l.append(\"monospaced\")\n",
    "    else:\n",
    "        l.append(\"proportional\")\n",
    "    if flags & 2 ** 4:\n",
    "        l.append(\"bold\")\n",
    "    return \", \".join(l)                 #return tells it to save what is produced by the function\n"
   ]
  },
  {
   "cell_type": "code",
   "execution_count": 6,
   "metadata": {},
   "outputs": [
    {
     "name": "stdout",
     "output_type": "stream",
     "text": [
      "Font: 'Times' (serifed, proportional), size 10.929, color #000000\n"
     ]
    }
   ],
   "source": [
    "####FUNCTION 2?\n",
    "class Face:                                           #creating a type object \"Face\"\n",
    "    def __init__(self, font, size, color, flags=0):   #creates an object of type Face, (default value for flags will be 0)\n",
    "        self.font = font                              #self is an argument that refers to the object. \"self\" is a part of how to make class in Python\n",
    "        self.size = size\n",
    "        self.color = color\n",
    "        self.flags = flags\n",
    "        self.style = flags_decomposer(self.flags)\n",
    "        \n",
    "    def __str__(self):                          #making a string (will be used when printing a object)\n",
    "        return f\"Font: '{self.font}' ({self.style}), size {self.size:g}, color \" + (\"#%06x\" % self.color)\n",
    "print(Face(\"Times\",10.929, 0, 4))               #making and printing a new Face object \n",
    "\n",
    "\n",
    "\n"
   ]
  },
  {
   "cell_type": "code",
   "execution_count": 37,
   "metadata": {
    "scrolled": true
   },
   "outputs": [],
   "source": [
    "###FUNCTION 3\n",
    "#write a function for pulling out font that matches how the families are written \n",
    "def isfamily(t, fp):\n",
    "    font = \"Font: 'Times-Roman' (serifed, proportional), size 10.9449, color #000000\"\n",
    "    if re.match('^[A-Z]+$', t) or str(font) == fp:\n",
    "        #print(f'''Text: {t}\\n{fp}\\n\\n''')\n",
    "        return True\n",
    "    \n"
   ]
  },
  {
   "cell_type": "code",
   "execution_count": 8,
   "metadata": {},
   "outputs": [
    {
     "name": "stdout",
     "output_type": "stream",
     "text": [
      "{'Family': None, 'Genus': None, 'epithet': None, 'author': None, 'syn.': None, 'Plate': None, 'description': None, 'Floraison': None, 'L.': None, 'S.': None, 'Aire géogr.': None, 'Notes': None}\n"
     ]
    }
   ],
   "source": [
    "item = dict.fromkeys(columns)              #make new dictionary from column values (from above) **twe will be pulling from the PDF and storing the values in this Dictionary (eventually turn this into CSV)\n",
    "print(item)"
   ]
  },
  {
   "cell_type": "code",
   "execution_count": 9,
   "metadata": {
    "scrolled": true
   },
   "outputs": [
    {
     "name": "stdout",
     "output_type": "stream",
     "text": [
      "<generator object <genexpr> at 0x111878cd0>\n"
     ]
    }
   ],
   "source": [
    "p = (doc[x] for x in range(528,607))    #create a sequence of integers from 528-607\n",
    "print(p)"
   ]
  },
  {
   "cell_type": "code",
   "execution_count": 10,
   "metadata": {},
   "outputs": [],
   "source": [
    "###FUNCTION 5 \n",
    "#make floraison function                                         #define all function at one time (seperate script)\n",
    "def floraison(doc, pagenum=0, block_start=0):\n",
    "    for page in next(p):\n",
    "        blocks = page.getText(\"dict\", flags=11)[\"blocks\"]\n",
    "        for x,b in enumerate(blocks[block_start:]):              # iterate through the text blocks\n",
    "            for y,l in enumerate(b[\"lines\"]):                    # iterate through the text lines\n",
    "                for z,s in enumerate(l[\"spans\"]):                # iterate through the text spans\n",
    "                    s[\"style\"] = flags_decomposer(s[\"flags\"])    # readable font flags\n",
    "                    face = Face(s[\"font\"], s[\"size\"], s[\"color\"], s[\"flags\"])\n",
    "                    if re.match(\"Floraison\", s[\"text\"]):\n",
    "                        yield (page.number, x, y, z, s[\"text\"])\n"
   ]
  },
  {
   "cell_type": "code",
   "execution_count": 51,
   "metadata": {
    "scrolled": true
   },
   "outputs": [
    {
     "data": {
      "text/plain": [
       "<generator object <genexpr> at 0x10d9c8350>"
      ]
     },
     "execution_count": 51,
     "metadata": {},
     "output_type": "execute_result"
    }
   ],
   "source": []
  },
  {
   "cell_type": "code",
   "execution_count": 43,
   "metadata": {},
   "outputs": [
    {
     "name": "stdout",
     "output_type": "stream",
     "text": [
      "1 18 0 1 0 Portulacca Font: 'Times-Bold' (serifed, proportional, bold), size 11, color #000000\n",
      "{'Family': 'CARYOPHYLLACEAE', 'Genus': 'Portulacca', 'epithet': ' oleracea', 'author': None, 'syn.': None, 'Plate': None, 'description': None, 'Floraison': None, 'L.': None, 'S.': None, 'Aire géogr.': None, 'Notes': None}\n",
      "1 18 0 1 1  oleracea Font: 'Times-Bold' (serifed, proportional, bold), size 10.9449, color #000000\n",
      "{'Family': 'CARYOPHYLLACEAE', 'Genus': '', 'epithet': 'oleracea', 'author': None, 'syn.': None, 'Plate': None, 'description': None, 'Floraison': None, 'L.': None, 'S.': None, 'Aire géogr.': None, 'Notes': None}\n",
      "8 18 0 1 0 Montia fontana L. Font: 'Times-Bold' (serifed, proportional, bold), size 10.9449, color #000000\n",
      "{'Family': 'CARYOPHYLLACEAE', 'Genus': 'Montia', 'epithet': 'fontana', 'author': None, 'syn.': None, 'Plate': None, 'description': None, 'Floraison': None, 'L.': None, 'S.': None, 'Aire géogr.': None, 'Notes': None}\n",
      "8 18 0 1 2  chondrosperma Font: 'Times-Bold' (serifed, proportional, bold), size 11, color #000000\n",
      "{'Family': 'CARYOPHYLLACEAE', 'Genus': '', 'epithet': 'chondrosperma', 'author': None, 'syn.': None, 'Plate': None, 'description': None, 'Floraison': None, 'L.': None, 'S.': None, 'Aire géogr.': None, 'Notes': None}\n"
     ]
    }
   ],
   "source": [
    "p = (doc[x] for x in range(527,529))\n",
    "p\n",
    "\n",
    "\n",
    "# https://pymupdf.readthedocs.io/en/latest/faq/#how-to-analyze-font-characteristics\n",
    "page = next(p)         #Retrieve the next item from the iterator.\n",
    "\n",
    "# read page text as a dictionary, suppressing extra spaces in CJK fonts\n",
    "# these first three for loops essentially print out everything on one page. \n",
    "blocks = page.getText(\"dict\", flags=11)[\"blocks\"]\n",
    "for x,b in enumerate(blocks):             # iterate through the text blocks (defining values that x and b will take over the course of the \"for\" loop)\n",
    "    for y,l in enumerate(b[\"lines\"]):     # iterate through the text lines (iterating over the \"lines\" within \"b\")\n",
    "        for z,s in enumerate(l[\"spans\"]): # iterate through the text spans (string of characters that are sep by white space)\n",
    "                                          # \"s\" is a stand in variable for \"spans\", an unbroken set of characters that its reading from the page\n",
    "            #print(s)      #creates a dictonary per each word/set of words. Assigns a variable for each of these keys:\n",
    "                           #{size, flags, font, color, 'text', 'bbox'}            \n",
    "            s[\"style\"] = flags_decomposer(s[\"flags\"])  # from function we defined above. readable font flags\n",
    "            #print(s)       # aguments the above output with a new key, \"style\" that is more descriptive\n",
    "            face = Face(s[\"font\"], s[\"size\"], s[\"color\"], s[\"flags\"])   #use the class, Face, we created above. <class '__main__.Face'>\n",
    "            #print(face)        #output: Font: 'Times-Roman' (serifed, proportional), size 8.95489, color #000000\n",
    "                                #ie. \"face\" is all of the font information as one variable defined by the key, \"face\"? \n",
    "###Asign family to item###            \n",
    "            if isfamily(s[\"text\"], face) and len(l[\"spans\"]) == 1:       #looking through one \"span\"\n",
    "                item['Family'] = s[\"text\"]\n",
    "                #print(x, len(blocks), y, z, s[\"text\"], face)             #???\n",
    "                   #output: 15 18 0 0 CARYOPHYLLACEAE Font: 'Times-Roman' (serifed, proportional), size 10.9449, color #000000\n",
    "                #print(item)\n",
    "                   #!!!!!!output: {'Family': 'CARYOPHYLLACEAE', 'Genus': None, 'epithet': None, 'author': None, 'syn.': None, 'Plate': None, 'description': None, 'Floraison': None, 'L.': None, 'S.': None, 'Aire géogr.': None, 'Notes': None}\n",
    "                break       \n",
    "            if not item['Family']:\n",
    "                #print(item)                 #what prints is how many items are not 'family'\n",
    "                break                        #moves loop to next step/line\n",
    "###Assign Genus and epithet to item###         This can be made into a function for better readablily, esp bc this is not enough to parse all genus species out correctly   \n",
    "            if s['font'] == 'Times-Bold':    #if the font in s is times-bold, do the following:  \n",
    "                item['Genus'], *item['epithet'] = s[\"text\"].split(' ')         #split first return in \"text.\" splits at the space, first goes into key, \"Genus\", and 2nd goes into key \"epithet\"\n",
    "                item['epithet'] = item['epithet'][0] if item['epithet'] else l[\"spans\"][1][\"text\"]   \n",
    "                currsize = s['size']                 \n",
    "                print(x, len(blocks), y, len(b[\"lines\"]), z, s[\"text\"], face)\n",
    "                \n",
    "#                 nn, xx, yy, zz, tt = next(floraison(page, x))\n",
    "#                item['Floraison'] = tt\n",
    "#                 for q in range(x, max(x+15, len(blocks))):\n",
    "#                     for ll in blocks[q][\"lines\"]:\n",
    "#                         s = ll[\"spans\"][0]\n",
    "#                         text, *rest = s['text'].split(' ')\n",
    "#                         if text == \"Floraison:\":\n",
    "#                             face = Face(s[\"font\"], s[\"size\"], s[\"color\"], s[\"flags\"])\n",
    "#                             print(face, s['text'])\n",
    "#                             for ss in ll[\"spans\"]:\n",
    "#                                 #print(ss['text'], end=\" \")\n",
    "#                                 pass\n",
    "#                 from pprint import pprint\n",
    "#                 #print(x, len(blocks), y, z, pprint(item))\n",
    "#                 #print([a[\"text\"] for a in l[\"spans\"]])\n",
    "#                 #print(); print(); \n",
    "#                 break\n",
    "                print(item) #prints in the order of the page layout"
   ]
  },
  {
   "cell_type": "code",
   "execution_count": null,
   "metadata": {},
   "outputs": [],
   "source": []
  },
  {
   "cell_type": "code",
   "execution_count": null,
   "metadata": {},
   "outputs": [],
   "source": [
    "search = ((x, doc.searchPageFor(x, \"Floraison\", 100, False)) for x in range(516,520))"
   ]
  },
  {
   "cell_type": "code",
   "execution_count": null,
   "metadata": {
    "scrolled": true
   },
   "outputs": [],
   "source": [
    "next(search)"
   ]
  },
  {
   "cell_type": "code",
   "execution_count": null,
   "metadata": {},
   "outputs": [],
   "source": [
    "p = (doc[x] for x in range(516,520))"
   ]
  },
  {
   "cell_type": "code",
   "execution_count": 41,
   "metadata": {
    "scrolled": false
   },
   "outputs": [
    {
     "ename": "StopIteration",
     "evalue": "",
     "output_type": "error",
     "traceback": [
      "\u001b[0;31m---------------------------------------------------------------------------\u001b[0m",
      "\u001b[0;31mStopIteration\u001b[0m                             Traceback (most recent call last)",
      "\u001b[0;32m<ipython-input-41-93d6b96292b7>\u001b[0m in \u001b[0;36m<module>\u001b[0;34m\u001b[0m\n\u001b[0;32m----> 1\u001b[0;31m \u001b[0mpage\u001b[0m \u001b[0;34m=\u001b[0m \u001b[0mnext\u001b[0m\u001b[0;34m(\u001b[0m\u001b[0mp\u001b[0m\u001b[0;34m)\u001b[0m\u001b[0;34m\u001b[0m\u001b[0;34m\u001b[0m\u001b[0m\n\u001b[0m\u001b[1;32m      2\u001b[0m \u001b[0mrects\u001b[0m \u001b[0;34m=\u001b[0m \u001b[0mpage\u001b[0m\u001b[0;34m.\u001b[0m\u001b[0msearchFor\u001b[0m\u001b[0;34m(\u001b[0m\u001b[0;34m\"Floraison\"\u001b[0m\u001b[0;34m)\u001b[0m\u001b[0;34m\u001b[0m\u001b[0;34m\u001b[0m\u001b[0m\n\u001b[1;32m      3\u001b[0m \u001b[0mrects\u001b[0m\u001b[0;34m[\u001b[0m\u001b[0;36m0\u001b[0m\u001b[0;34m]\u001b[0m\u001b[0;34m\u001b[0m\u001b[0;34m\u001b[0m\u001b[0m\n",
      "\u001b[0;31mStopIteration\u001b[0m: "
     ]
    }
   ],
   "source": [
    "page = next(p)\n",
    "rects = page.searchFor(\"Floraison\")\n",
    "rects[0]"
   ]
  },
  {
   "cell_type": "code",
   "execution_count": null,
   "metadata": {
    "scrolled": true
   },
   "outputs": [],
   "source": [
    "page.getTextBlocks()"
   ]
  },
  {
   "cell_type": "code",
   "execution_count": null,
   "metadata": {},
   "outputs": [],
   "source": [
    "d = iter(doc)"
   ]
  },
  {
   "cell_type": "code",
   "execution_count": null,
   "metadata": {
    "scrolled": true
   },
   "outputs": [],
   "source": [
    "next(d).getTextBlocks()"
   ]
  },
  {
   "cell_type": "code",
   "execution_count": 42,
   "metadata": {},
   "outputs": [
    {
     "ename": "TypeError",
     "evalue": "'module' object is not callable",
     "output_type": "error",
     "traceback": [
      "\u001b[0;31m---------------------------------------------------------------------------\u001b[0m",
      "\u001b[0;31mTypeError\u001b[0m                                 Traceback (most recent call last)",
      "\u001b[0;32m<ipython-input-42-ae49e38ec83f>\u001b[0m in \u001b[0;36m<module>\u001b[0;34m\u001b[0m\n\u001b[0;32m----> 1\u001b[0;31m \u001b[0mpprint\u001b[0m\u001b[0;34m(\u001b[0m\u001b[0mp\u001b[0m\u001b[0;34m)\u001b[0m\u001b[0;34m\u001b[0m\u001b[0;34m\u001b[0m\u001b[0m\n\u001b[0m",
      "\u001b[0;31mTypeError\u001b[0m: 'module' object is not callable"
     ]
    }
   ],
   "source": [
    "pprint(p)"
   ]
  },
  {
   "cell_type": "code",
   "execution_count": null,
   "metadata": {},
   "outputs": [],
   "source": [
    "getTextBlocks621 = doc[621].getTextBlocks()"
   ]
  },
  {
   "cell_type": "code",
   "execution_count": null,
   "metadata": {},
   "outputs": [],
   "source": [
    "getText621 = doc[621].getText()"
   ]
  },
  {
   "cell_type": "code",
   "execution_count": null,
   "metadata": {
    "scrolled": true
   },
   "outputs": [],
   "source": [
    "page.getFontList()"
   ]
  },
  {
   "cell_type": "code",
   "execution_count": 9,
   "metadata": {},
   "outputs": [
    {
     "name": "stdout",
     "output_type": "stream",
     "text": [
      "Requirement already satisfied: pandas in /opt/anaconda3/lib/python3.7/site-packages (1.0.1)\r\n",
      "Requirement already satisfied: numpy>=1.13.3 in /opt/anaconda3/lib/python3.7/site-packages (from pandas) (1.18.1)\r\n",
      "Requirement already satisfied: pytz>=2017.2 in /opt/anaconda3/lib/python3.7/site-packages (from pandas) (2019.3)\r\n",
      "Requirement already satisfied: python-dateutil>=2.6.1 in /opt/anaconda3/lib/python3.7/site-packages (from pandas) (2.8.1)\r\n",
      "Requirement already satisfied: six>=1.5 in /opt/anaconda3/lib/python3.7/site-packages (from python-dateutil>=2.6.1->pandas) (1.14.0)\r\n"
     ]
    }
   ],
   "source": [
    "#write whatever data as a spreadsheet... \n",
    "#!pip install pandas                   #preinstalled with anaconda\n",
    "import pandas as pd\n",
    "p = pd.DataFrame(p)\n",
    "p.to_csv ('p.csv')"
   ]
  },
  {
   "cell_type": "code",
   "execution_count": 36,
   "metadata": {},
   "outputs": [
    {
     "data": {
      "text/html": [
       "<div>\n",
       "<style scoped>\n",
       "    .dataframe tbody tr th:only-of-type {\n",
       "        vertical-align: middle;\n",
       "    }\n",
       "\n",
       "    .dataframe tbody tr th {\n",
       "        vertical-align: top;\n",
       "    }\n",
       "\n",
       "    .dataframe thead th {\n",
       "        text-align: right;\n",
       "    }\n",
       "</style>\n",
       "<table border=\"1\" class=\"dataframe\">\n",
       "  <thead>\n",
       "    <tr style=\"text-align: right;\">\n",
       "      <th></th>\n",
       "    </tr>\n",
       "  </thead>\n",
       "  <tbody>\n",
       "  </tbody>\n",
       "</table>\n",
       "</div>"
      ],
      "text/plain": [
       "Empty DataFrame\n",
       "Columns: []\n",
       "Index: []"
      ]
     },
     "execution_count": 36,
     "metadata": {},
     "output_type": "execute_result"
    }
   ],
   "source": [
    "csv.writer(p)"
   ]
  },
  {
   "cell_type": "code",
   "execution_count": 39,
   "metadata": {},
   "outputs": [
    {
     "ename": "AttributeError",
     "evalue": "'generator' object has no attribute 'save'",
     "output_type": "error",
     "traceback": [
      "\u001b[0;31m---------------------------------------------------------------------------\u001b[0m",
      "\u001b[0;31mAttributeError\u001b[0m                            Traceback (most recent call last)",
      "\u001b[0;32m<ipython-input-39-1aecd23aeac9>\u001b[0m in \u001b[0;36m<module>\u001b[0;34m\u001b[0m\n\u001b[0;32m----> 1\u001b[0;31m \u001b[0mp\u001b[0m\u001b[0;34m.\u001b[0m\u001b[0msave\u001b[0m\u001b[0;34m(\u001b[0m\u001b[0;34m\"doc.pdf\"\u001b[0m\u001b[0;34m)\u001b[0m\u001b[0;34m\u001b[0m\u001b[0;34m\u001b[0m\u001b[0m\n\u001b[0m",
      "\u001b[0;31mAttributeError\u001b[0m: 'generator' object has no attribute 'save'"
     ]
    }
   ],
   "source": [
    "p.save(\"doc.pdf\")"
   ]
  },
  {
   "cell_type": "code",
   "execution_count": 38,
   "metadata": {},
   "outputs": [
    {
     "name": "stdout",
     "output_type": "stream",
     "text": [
      "Variable           Type         Data/Info\n",
      "-----------------------------------------\n",
      "Face               type         <class '__main__.Face'>\n",
      "columns            list         n=12\n",
      "data               dict         n=0\n",
      "doc                Document     fitz.Document('NOUVELLE F<...>IBAN ET DE LA SYRIE.pdf')\n",
      "document           str          document.pdf\n",
      "filename           str          document.pdf\n",
      "fitz               module       <module 'fitz' from '/opt<...>ckages/fitz/__init__.py'>\n",
      "flags_decomposer   function     <function flags_decomposer at 0x118a1a680>\n",
      "floraison          function     <function floraison at 0x118a1a560>\n",
      "header             str          Family\tGenus\tepithet\tauth<...>n\tL.\tS.\tAire géogr.\tNotes\n",
      "isfamily           function     <function isfamily at 0x118a1aef0>\n",
      "item               dict         n=12\n",
      "p                  generator    <generator object <genexpr> at 0x118a22d50>\n",
      "page               Page         page 528 of NOUVELLE FLOR<...> LIBAN ET DE LA SYRIE.pdf\n",
      "pd                 module       <module 'pandas' from '/o<...>ages/pandas/__init__.py'>\n",
      "pdf_document       Document     fitz.Document('document.pdf')\n",
      "pprint             module       <module 'pprint' from '/o<...>lib/python3.7/pprint.py'>\n",
      "re                 module       <module 're' from '/opt/a<...>da3/lib/python3.7/re.py'>\n",
      "search_term        str          the\n"
     ]
    }
   ],
   "source": [
    "%whos"
   ]
  },
  {
   "cell_type": "code",
   "execution_count": 33,
   "metadata": {},
   "outputs": [
    {
     "data": {
      "text/plain": [
       "[Rect(37.68000030517578, 99.17700958251953, 113.67733764648438, 113.85101318359375),\n",
       " Rect(37.91999816894531, 164.3159942626953, 94.519287109375, 179.55099487304688)]"
      ]
     },
     "execution_count": 33,
     "metadata": {},
     "output_type": "execute_result"
    }
   ],
   "source": [
    "doc.searchPageFor(528, 'Pteranthus')    #search for a string on a page"
   ]
  },
  {
   "cell_type": "code",
   "execution_count": null,
   "metadata": {},
   "outputs": [],
   "source": []
  }
 ],
 "metadata": {
  "kernelspec": {
   "display_name": "Python 3",
   "language": "python",
   "name": "python3"
  },
  "language_info": {
   "codemirror_mode": {
    "name": "ipython",
    "version": 3
   },
   "file_extension": ".py",
   "mimetype": "text/x-python",
   "name": "python",
   "nbconvert_exporter": "python",
   "pygments_lexer": "ipython3",
   "version": "3.7.6"
  }
 },
 "nbformat": 4,
 "nbformat_minor": 2
}
