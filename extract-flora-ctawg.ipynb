{
 "cells": [
  {
   "cell_type": "code",
   "execution_count": null,
   "metadata": {},
   "outputs": [],
   "source": [
    "!pip install pyresparser fitz PyMuPDF pypdf2 >/dev/null"
   ]
  },
  {
   "cell_type": "code",
   "execution_count": 1,
   "metadata": {},
   "outputs": [],
   "source": [
    "!ln -s \"NOUVELLE FLORE DU LIBAN ET DE LA SYRIE.pdf\" document.pdf"
   ]
  },
  {
   "cell_type": "code",
   "execution_count": 2,
   "metadata": {},
   "outputs": [],
   "source": [
    "import fitz\n",
    "document = 'document.pdf'\n",
    "filename = document\n",
    "search_term = \"the\"\n",
    "pdf_document = fitz.open(filename)"
   ]
  },
  {
   "cell_type": "code",
   "execution_count": 3,
   "metadata": {},
   "outputs": [
    {
     "data": {
      "text/plain": [
       "['FontInfos',\n",
       " 'FormFonts',\n",
       " 'Graftmaps',\n",
       " 'PDFCatalog',\n",
       " 'PDFTrailer',\n",
       " 'ShownPages',\n",
       " '__class__',\n",
       " '__contains__',\n",
       " '__del__',\n",
       " '__delattr__',\n",
       " '__dict__',\n",
       " '__dir__',\n",
       " '__doc__',\n",
       " '__enter__',\n",
       " '__eq__',\n",
       " '__exit__',\n",
       " '__format__',\n",
       " '__ge__',\n",
       " '__getattribute__',\n",
       " '__getitem__',\n",
       " '__gt__',\n",
       " '__hash__',\n",
       " '__init__',\n",
       " '__init_subclass__',\n",
       " '__le__',\n",
       " '__len__',\n",
       " '__lt__',\n",
       " '__module__',\n",
       " '__ne__',\n",
       " '__new__',\n",
       " '__reduce__',\n",
       " '__reduce_ex__',\n",
       " '__repr__',\n",
       " '__setattr__',\n",
       " '__sizeof__',\n",
       " '__str__',\n",
       " '__subclasshook__',\n",
       " '__swig_destroy__',\n",
       " '__weakref__',\n",
       " '_addFormFont',\n",
       " '_delToC',\n",
       " '_delXmlMetadata',\n",
       " '_deleteObject',\n",
       " '_deletePage',\n",
       " '_do_links',\n",
       " '_dropOutline',\n",
       " '_embeddedFileAdd',\n",
       " '_embeddedFileDel',\n",
       " '_embeddedFileGet',\n",
       " '_embeddedFileIndex',\n",
       " '_embeddedFileInfo',\n",
       " '_embeddedFileNames',\n",
       " '_embeddedFileUpd',\n",
       " '_forget_page',\n",
       " '_getCharWidths',\n",
       " '_getMetadata',\n",
       " '_getNewXref',\n",
       " '_getOLRootNumber',\n",
       " '_getPDFfileid',\n",
       " '_getPDFroot',\n",
       " '_getPageInfo',\n",
       " '_getPageObjNumber',\n",
       " '_getPageXref',\n",
       " '_getTrailerString',\n",
       " '_getXmlMetadataXref',\n",
       " '_getXrefLength',\n",
       " '_getXrefStream',\n",
       " '_getXrefStreamRaw',\n",
       " '_getXrefString',\n",
       " '_graft_id',\n",
       " '_hasXrefOldStyle',\n",
       " '_hasXrefStream',\n",
       " '_loadOutline',\n",
       " '_make_page_map',\n",
       " '_move_copy_page',\n",
       " '_newPage',\n",
       " '_outline',\n",
       " '_page_refs',\n",
       " '_remove_links_to',\n",
       " '_reset_page_refs',\n",
       " '_setMetadata',\n",
       " '_updateObject',\n",
       " '_updateStream',\n",
       " 'authenticate',\n",
       " 'can_save_incrementally',\n",
       " 'chapterCount',\n",
       " 'chapterPageCount',\n",
       " 'close',\n",
       " 'convertToPDF',\n",
       " 'copyPage',\n",
       " 'deletePage',\n",
       " 'deletePageRange',\n",
       " 'embeddedFileAdd',\n",
       " 'embeddedFileCount',\n",
       " 'embeddedFileDel',\n",
       " 'embeddedFileGet',\n",
       " 'embeddedFileInfo',\n",
       " 'embeddedFileNames',\n",
       " 'embeddedFileUpd',\n",
       " 'extractFont',\n",
       " 'extractImage',\n",
       " 'findBookmark',\n",
       " 'fullcopyPage',\n",
       " 'getCharWidths',\n",
       " 'getPageFontList',\n",
       " 'getPageImageList',\n",
       " 'getPagePixmap',\n",
       " 'getPageText',\n",
       " 'getPageXObjectList',\n",
       " 'getSigFlags',\n",
       " 'getToC',\n",
       " 'get_pdf_object',\n",
       " 'initData',\n",
       " 'insertPDF',\n",
       " 'insertPage',\n",
       " 'isClosed',\n",
       " 'isDirty',\n",
       " 'isEncrypted',\n",
       " 'isFormPDF',\n",
       " 'isPDF',\n",
       " 'isReflowable',\n",
       " 'isStream',\n",
       " 'language',\n",
       " 'lastLocation',\n",
       " 'layout',\n",
       " 'loadPage',\n",
       " 'location_from_page_number',\n",
       " 'makeBookmark',\n",
       " 'metadata',\n",
       " 'metadataXML',\n",
       " 'movePage',\n",
       " 'name',\n",
       " 'needsPass',\n",
       " 'newPage',\n",
       " 'nextLocation',\n",
       " 'outline',\n",
       " 'pageCount',\n",
       " 'page_number_from_location',\n",
       " 'pages',\n",
       " 'permissions',\n",
       " 'previousLocation',\n",
       " 'reload_page',\n",
       " 'resolveLink',\n",
       " 'save',\n",
       " 'saveIncr',\n",
       " 'scrub',\n",
       " 'searchPageFor',\n",
       " 'select',\n",
       " 'setLanguage',\n",
       " 'setMetadata',\n",
       " 'setToC',\n",
       " 'stream',\n",
       " 'this',\n",
       " 'thisown',\n",
       " 'updateObject',\n",
       " 'updateStream',\n",
       " 'write',\n",
       " 'xrefLength',\n",
       " 'xrefObject',\n",
       " 'xrefStream',\n",
       " 'xrefStreamRaw']"
      ]
     },
     "execution_count": 3,
     "metadata": {},
     "output_type": "execute_result"
    }
   ],
   "source": [
    "doc = pdf_document\n",
    "dir(doc)"
   ]
  },
  {
   "cell_type": "code",
   "execution_count": 4,
   "metadata": {},
   "outputs": [
    {
     "data": {
      "text/plain": [
       "[[1, 'Abreviations', 77]]"
      ]
     },
     "execution_count": 4,
     "metadata": {},
     "output_type": "execute_result"
    }
   ],
   "source": [
    "doc.getToC()"
   ]
  },
  {
   "cell_type": "code",
   "execution_count": 5,
   "metadata": {},
   "outputs": [
    {
     "data": {
      "text/plain": [
       "[Rect(37.68000030517578, 99.17700958251953, 113.67733764648438, 113.85101318359375),\n",
       " Rect(37.91999816894531, 164.3159942626953, 94.519287109375, 179.55099487304688)]"
      ]
     },
     "execution_count": 5,
     "metadata": {},
     "output_type": "execute_result"
    }
   ],
   "source": [
    "doc.searchPageFor(528, 'Pteranthus')"
   ]
  },
  {
   "cell_type": "code",
   "execution_count": 6,
   "metadata": {},
   "outputs": [],
   "source": [
    "# https://pymupdf.readthedocs.io/en/latest/faq/#how-to-analyze-font-characteristics\n",
    "\n",
    "import fitz\n",
    "import pprint, re\n",
    "\n",
    "def flags_decomposer(flags):\n",
    "    \"\"\"Make font flags human readable.\"\"\"\n",
    "    l = []\n",
    "    if flags & 2 ** 0:\n",
    "        l.append(\"superscript\")\n",
    "    if flags & 2 ** 1:\n",
    "        l.append(\"italic\")\n",
    "    if flags & 2 ** 2:\n",
    "        l.append(\"serifed\")\n",
    "    else:\n",
    "        l.append(\"sans\")\n",
    "    if flags & 2 ** 3:\n",
    "        l.append(\"monospaced\")\n",
    "    else:\n",
    "        l.append(\"proportional\")\n",
    "    if flags & 2 ** 4:\n",
    "        l.append(\"bold\")\n",
    "    return \", \".join(l)\n",
    "\n",
    "\n",
    "doc = fitz.open(\"document.pdf\")\n",
    "page = doc[528]"
   ]
  },
  {
   "cell_type": "code",
   "execution_count": 7,
   "metadata": {},
   "outputs": [
    {
     "data": {
      "text/plain": [
       "['Family',\n",
       " 'Genus',\n",
       " 'epithet',\n",
       " 'author',\n",
       " 'syn.',\n",
       " 'Plate',\n",
       " 'description',\n",
       " 'Floraison',\n",
       " 'L.',\n",
       " 'S.',\n",
       " 'Aire géogr.',\n",
       " 'Notes']"
      ]
     },
     "execution_count": 7,
     "metadata": {},
     "output_type": "execute_result"
    }
   ],
   "source": [
    "#header = 'Family\tGenus\tepithet\tauthor\tsyn.\tPlate\tdescription\tFloraison from\tFloraison to\tFloraison notes\tL.\tS.\tAire géogr.\tNotes'\n",
    "header = 'Family\tGenus\tepithet\tauthor\tsyn.\tPlate\tdescription\tFloraison\tL.\tS.\tAire géogr.\tNotes'\n",
    "columns = header.split('\t')\n",
    "columns"
   ]
  },
  {
   "cell_type": "code",
   "execution_count": 8,
   "metadata": {},
   "outputs": [
    {
     "name": "stdout",
     "output_type": "stream",
     "text": [
      "Font: 'Times' (serifed, proportional), size 10.929, color #000000\n",
      "{'Family': None, 'Genus': None, 'epithet': None, 'author': None, 'syn.': None, 'Plate': None, 'description': None, 'Floraison': None, 'L.': None, 'S.': None, 'Aire géogr.': None, 'Notes': None}\n"
     ]
    },
    {
     "data": {
      "text/plain": [
       "<generator object <genexpr> at 0x7fb274f84d50>"
      ]
     },
     "execution_count": 8,
     "metadata": {},
     "output_type": "execute_result"
    }
   ],
   "source": [
    "class Face:\n",
    "    def __init__(self, font, size, color, flags=0):\n",
    "        self.font = font\n",
    "        self.size = size\n",
    "        self.color = color\n",
    "        self.flags = flags\n",
    "        self.style = flags_decomposer(self.flags)\n",
    "    def __str__(self):\n",
    "        return f\"Font: '{self.font}' ({self.style}), size {self.size:g}, color \" + (\"#%06x\" % self.color)\n",
    "print(Face(\"Times\",10.929, 0, 4))\n",
    "\n",
    "def isfamily(t, fp):\n",
    "    font = \"Font: 'Times-Roman' (serifed, proportional), size 10.9449, color #000000\"\n",
    "    if re.match('^[A-Z]+$', t) or str(font) == fp:\n",
    "        #print(f'''Text: {t}\\n{fp}\\n\\n''')\n",
    "        return True\n",
    "data = {}\n",
    "item = dict.fromkeys(columns)\n",
    "print(item)\n",
    "p = (doc[x] for x in range(516,604))\n",
    "p = (doc[x] for x in range(527,604))\n",
    "p"
   ]
  },
  {
   "cell_type": "code",
   "execution_count": 9,
   "metadata": {},
   "outputs": [
    {
     "ename": "NameError",
     "evalue": "name 'x' is not defined",
     "output_type": "error",
     "traceback": [
      "\u001b[0;31m---------------------------------------------------------------------------\u001b[0m",
      "\u001b[0;31mNameError\u001b[0m                                 Traceback (most recent call last)",
      "\u001b[0;32m<ipython-input-9-7a6e82902be5>\u001b[0m in \u001b[0;36m<module>\u001b[0;34m\u001b[0m\n\u001b[1;32m     13\u001b[0m \u001b[0;34m\u001b[0m\u001b[0m\n\u001b[1;32m     14\u001b[0m \u001b[0mp\u001b[0m \u001b[0;34m=\u001b[0m \u001b[0;34m(\u001b[0m\u001b[0mdoc\u001b[0m\u001b[0;34m[\u001b[0m\u001b[0mx\u001b[0m\u001b[0;34m]\u001b[0m \u001b[0;32mfor\u001b[0m \u001b[0mx\u001b[0m \u001b[0;32min\u001b[0m \u001b[0mrange\u001b[0m\u001b[0;34m(\u001b[0m\u001b[0;36m516\u001b[0m\u001b[0;34m,\u001b[0m\u001b[0;36m540\u001b[0m\u001b[0;34m)\u001b[0m\u001b[0;34m)\u001b[0m\u001b[0;34m\u001b[0m\u001b[0;34m\u001b[0m\u001b[0m\n\u001b[0;32m---> 15\u001b[0;31m \u001b[0mnext\u001b[0m\u001b[0;34m(\u001b[0m\u001b[0mfloraison\u001b[0m\u001b[0;34m(\u001b[0m\u001b[0mdoc\u001b[0m\u001b[0;34m,\u001b[0m \u001b[0mx\u001b[0m\u001b[0;34m)\u001b[0m\u001b[0;34m)\u001b[0m\u001b[0;34m\u001b[0m\u001b[0;34m\u001b[0m\u001b[0m\n\u001b[0m",
      "\u001b[0;31mNameError\u001b[0m: name 'x' is not defined"
     ]
    }
   ],
   "source": [
    "import re\n",
    "\n",
    "def floraison(doc, pagenum=0, block_start=0):\n",
    "    for page in next(p):\n",
    "        blocks = page.getText(\"dict\", flags=11)[\"blocks\"]\n",
    "        for x,b in enumerate(blocks[block_start:]):  # iterate through the text blocks\n",
    "            for y,l in enumerate(b[\"lines\"]):  # iterate through the text lines\n",
    "                for z,s in enumerate(l[\"spans\"]):  # iterate through the text spans\n",
    "                    s[\"style\"] = flags_decomposer(s[\"flags\"])  # readable font flags\n",
    "                    face = Face(s[\"font\"], s[\"size\"], s[\"color\"], s[\"flags\"])\n",
    "                    if re.match(\"Floraison\", s[\"text\"]):\n",
    "                        yield (page.number, x, y, z, s[\"text\"])\n",
    "\n",
    "p = (doc[x] for x in range(516,540))\n",
    "next(floraison(doc, x))"
   ]
  },
  {
   "cell_type": "code",
   "execution_count": 10,
   "metadata": {},
   "outputs": [
    {
     "data": {
      "text/plain": [
       "<generator object <genexpr> at 0x7fb274ffcf50>"
      ]
     },
     "execution_count": 10,
     "metadata": {},
     "output_type": "execute_result"
    }
   ],
   "source": [
    "p = (doc[x] for x in range(527,604))\n",
    "p"
   ]
  },
  {
   "cell_type": "code",
   "execution_count": 11,
   "metadata": {},
   "outputs": [
    {
     "data": {
      "text/plain": [
       "528"
      ]
     },
     "execution_count": 11,
     "metadata": {},
     "output_type": "execute_result"
    }
   ],
   "source": [
    "page.number"
   ]
  },
  {
   "cell_type": "code",
   "execution_count": 12,
   "metadata": {},
   "outputs": [
    {
     "name": "stdout",
     "output_type": "stream",
     "text": [
      "15 18 0 0 CARYOPHYLLACEAE Font: 'Times-Roman' (serifed, proportional), size 10.9449, color #000000\n"
     ]
    }
   ],
   "source": [
    "page = next(p)\n",
    "# read page text as a dictionary, suppressing extra spaces in CJK fonts\n",
    "blocks = page.getText(\"dict\", flags=11)[\"blocks\"]\n",
    "for x,b in enumerate(blocks):  # iterate through the text blocks\n",
    "    for y,l in enumerate(b[\"lines\"]):  # iterate through the text lines\n",
    "        for z,s in enumerate(l[\"spans\"]):  # iterate through the text spans\n",
    "            s[\"style\"] = flags_decomposer(s[\"flags\"])  # readable font flags\n",
    "            face = Face(s[\"font\"], s[\"size\"], s[\"color\"], s[\"flags\"])\n",
    "            if isfamily(s[\"text\"], face) and len(l[\"spans\"]) == 1:\n",
    "                item['Family'] = s[\"text\"]\n",
    "                print(x, len(blocks), y, z, s[\"text\"], face)\n",
    "                break\n",
    "            if not item['Family']:\n",
    "                break\n",
    "            if s['font'] == 'Times-Bold':\n",
    "                item['Genus'], *item['epithet'] = s[\"text\"].split(' ')\n",
    "                item['epithet'] = item['epithet'][0] if item['epithet'] else l[\"spans\"][1][\"text\"]\n",
    "                currsize = s['size']\n",
    "#                print(x, len(blocks), y, z, s[\"text\"], font_properties)\n",
    "                print(x, len(blocks), y, len(b[\"lines\"]), z, s[\"text\"], face)\n",
    "                nn, xx, yy, zz, tt = next(floraison(page, x))\n",
    "                item['Floraison'] = tt\n",
    "#                 for q in range(x, max(x+15, len(blocks))):\n",
    "#                     for ll in blocks[q][\"lines\"]:\n",
    "#                         s = ll[\"spans\"][0]\n",
    "#                         text, *rest = s['text'].split(' ')\n",
    "#                         if text == \"Floraison:\":\n",
    "#                             face = Face(s[\"font\"], s[\"size\"], s[\"color\"], s[\"flags\"])\n",
    "#                             print(face, s['text'])\n",
    "#                             for ss in ll[\"spans\"]:\n",
    "#                                 #print(ss['text'], end=\" \")\n",
    "#                                 pass\n",
    "                from pprint import pprint\n",
    "                print(x, len(blocks), y, z, pprint(item))\n",
    "                #print([a[\"text\"] for a in l[\"spans\"]])\n",
    "                print(); print(); \n",
    "                break\n"
   ]
  },
  {
   "cell_type": "code",
   "execution_count": null,
   "metadata": {},
   "outputs": [],
   "source": []
  },
  {
   "cell_type": "code",
   "execution_count": 13,
   "metadata": {},
   "outputs": [],
   "source": [
    "search = ((x, doc.searchPageFor(x, \"Floraison\", 100, False)) for x in range(516,520))"
   ]
  },
  {
   "cell_type": "code",
   "execution_count": 14,
   "metadata": {},
   "outputs": [
    {
     "data": {
      "text/plain": [
       "(516,\n",
       " [Rect(42.0, 69.48302459716797, 77.89947509765625, 81.48902130126953),\n",
       "  Rect(42.0, 324.6029968261719, 78.0272445678711, 336.6089782714844)])"
      ]
     },
     "execution_count": 14,
     "metadata": {},
     "output_type": "execute_result"
    }
   ],
   "source": [
    "next(search)"
   ]
  },
  {
   "cell_type": "code",
   "execution_count": 15,
   "metadata": {},
   "outputs": [],
   "source": [
    "p = (doc[x] for x in range(516,520))"
   ]
  },
  {
   "cell_type": "code",
   "execution_count": 16,
   "metadata": {},
   "outputs": [
    {
     "data": {
      "text/plain": [
       "Rect(42.0, 69.48302459716797, 77.89947509765625, 81.48902130126953)"
      ]
     },
     "execution_count": 16,
     "metadata": {},
     "output_type": "execute_result"
    }
   ],
   "source": [
    "page = next(p)\n",
    "rects = page.searchFor(\"Floraison\")\n",
    "rects[0]"
   ]
  },
  {
   "cell_type": "code",
   "execution_count": 17,
   "metadata": {},
   "outputs": [
    {
     "data": {
      "text/plain": [
       "[(177.83999633789062,\n",
       "  18.363027572631836,\n",
       "  409.36810302734375,\n",
       "  30.36902618408203,\n",
       "  'NOUVELLE FLORE  439',\n",
       "  0,\n",
       "  0),\n",
       " (24.0,\n",
       "  40.73700714111328,\n",
       "  409.758544921875,\n",
       "  67.1710205078125,\n",
       "  'centes. Sépales linéaires, spatules, denticulés, lacérés. Staminodes plus courts que\\nleur partie soudée. Fruit un peu accrescent, à la fin glabre.',\n",
       "  1,\n",
       "  0),\n",
       " (42.0,\n",
       "  69.48302459716797,\n",
       "  409.81085205078125,\n",
       "  94.92902374267578,\n",
       "  'Floraison: automne.\\nS. St. Entre Alep et Bagdad (Oliv), Palmyre (Mt, Zoh, Pb), Deir-ez-Zor (Gb), entre Mey-',\n",
       "  2,\n",
       "  0),\n",
       " (23.760000228881836,\n",
       "  92.52300262451172,\n",
       "  409.95843505859375,\n",
       "  114.12897491455078,\n",
       "  'yadine et Salihiyé (Hd-Mz), W. de Deir-ez-Zor, entre Abou Kemal et Meyyadine (Pb), entre\\nSoukhné et Deir-ez-Zor (Dlb).',\n",
       "  3,\n",
       "  0),\n",
       " (41.52000045776367,\n",
       "  116.0429916381836,\n",
       "  154.27919006347656,\n",
       "  128.0489959716797,\n",
       "  'Aire géogr. — Syrie et Iraq.',\n",
       "  4,\n",
       "  0),\n",
       " (45.84000015258789,\n",
       "  134.33700561523438,\n",
       "  409.8203430175781,\n",
       "  149.01101684570312,\n",
       "  'HALOGETON C.A. Mey. — Arbrisseaux ou plantes annuelles, à feuilles',\n",
       "  5,\n",
       "  0),\n",
       " (24.479999542236328,\n",
       "  146.09698486328125,\n",
       "  409.7297668457031,\n",
       "  196.05099487304688,\n",
       "  'charnues. Fleurs polygames par avortement, agglomérées aux aisselles et envelop-\\npées par une laine dense, celle du milieu sans bractéole, les autres à 2 ou 3 bractéoles.\\nSépales 5, dont 2 ou 3 portant au dos une bosse ou une aile. Étamines 5, rarement\\n2 ou 3. Ovaire ové. Stigmates filiformes au nombre de 2.',\n",
       "  6,\n",
       "  0),\n",
       " (45.36000061035156,\n",
       "  202.49697875976562,\n",
       "  409.4846496582031,\n",
       "  217.83099365234375,\n",
       "  'Halogeton alopecuroides (Del.) Moq. — Anabasis alopecuroides Del. (PI.',\n",
       "  7,\n",
       "  0),\n",
       " (24.0,\n",
       "  214.01699829101562,\n",
       "  409.8216247558594,\n",
       "  320.85101318359375,\n",
       "  \"CXLIX, n. 3). — 3. Sous-arbrisseau peu élevé, 15-25 cm., très rameux, à rameaux\\nallongés, étalés ou recourbés, blancs. Feuilles alternes, distantes ou rapprochées,\\nsemi-cylindriques, planes à la face supérieure, courtes, munies ou non d'une pointe\\nterminale fine, caduque, laissant après sa chute un mucron très court. Aisselles den-\\nsément laineuses. Fleurs constituant dans ces aisselles des glomérules sphériques,\\nmêlés de bractéoles orbiculaires-ovées. Sépales au moment de l'anthèse hyalins\\nérodés-denticulés au sommet. Sépales fructifères tous ou seulement deux d'entre eux\\ndotés au-dessus de leur milieu d'ailes en éventail, souvent inégales. Étamines et\\nstaminodes 5.\",\n",
       "  8,\n",
       "  0),\n",
       " (42.0,\n",
       "  324.6029968261719,\n",
       "  410.1195373535156,\n",
       "  349.3289794921875,\n",
       "  'Floraison: été.\\nS. Dam. 5 km. est de Dmeir (Pb). St. Oasis de Bardi (Pb), 80 km. est de Damas, 30 km.',\n",
       "  9,\n",
       "  0),\n",
       " (24.239999771118164,\n",
       "  346.9230041503906,\n",
       "  190.75485229492188,\n",
       "  358.9289855957031,\n",
       "  'W. de Qaryatein, Ouadi Rijal (Eig, Zoh).',\n",
       "  10,\n",
       "  0),\n",
       " (41.7599983215332,\n",
       "  359.64300537109375,\n",
       "  356.59259033203125,\n",
       "  371.64898681640625,\n",
       "  'Aire géogr. — Sahara, Egypte, Palestine mér., TransJordanie, Arabie séoudite.',\n",
       "  11,\n",
       "  0),\n",
       " (164.16000366210938,\n",
       "  390.656982421875,\n",
       "  267.8347473144531,\n",
       "  405.33099365234375,\n",
       "  'AMARANTHACEAE',\n",
       "  12,\n",
       "  0),\n",
       " (45.84000015258789,\n",
       "  412.0169982910156,\n",
       "  409.82049560546875,\n",
       "  426.6910095214844,\n",
       "  'Herbes ou sous-arbrisseaux à feuilles sans stipules, à fleurs munies de trois',\n",
       "  13,\n",
       "  0),\n",
       " (24.719999313354492,\n",
       "  423.7769775390625,\n",
       "  410.0606689453125,\n",
       "  438.45098876953125,\n",
       "  'bractées (une bractée et deux bractéoles), rarement de deux seulement.  Fleurs',\n",
       "  14,\n",
       "  0),\n",
       " (24.239999771118164,\n",
       "  435.5369873046875,\n",
       "  409.9990539550781,\n",
       "  497.2510070800781,\n",
       "  \"hermaphrodites, rarement polygames ou monoïques. Périanthe scarieux, 3-5-partite.\\nÉtamines 3-5, opposées aux sépales, complétées parfois par des staminodes. Ovaire\\nuniloculaire ou pluriovulé. Style simple ou à plusieurs stigmates. Fruit monosperme\\nou polysperme, souvent en forme d'utricule indéhiscent ou déhiscent par une fente\\nlatérale. Graines le plus souvent verticales, à tégument coriace.\",\n",
       "  15,\n",
       "  0),\n",
       " (46.31999969482422,\n",
       "  503.697021484375,\n",
       "  410.0920104980469,\n",
       "  518.3710327148438,\n",
       "  'Celosia cris tata L. — (J). Herbe glabre, verte, pouvant atteindre et dépasser',\n",
       "  16,\n",
       "  0),\n",
       " (24.479999542236328,\n",
       "  515.2169799804688,\n",
       "  410.2384033203125,\n",
       "  575.9710083007812,\n",
       "  'un mètre. Fleurs dépassant leurs bractées, 5-8 mm. de long, colorées, ainsi que leurs\\nbractées et leurs bractéoles, en rouge pourpre, rouge écarlate, jaune, orangé, blanc.\\nCultivée sous deux formes, la forme normale fastigiée, et plus souvent sous une\\nforme fasciée, à inflorescence en large crête ondulée, crispée ou sinuée. Fréquente\\ndans les jardins, généralement en teinte pourpre.',\n",
       "  17,\n",
       "  0),\n",
       " (42.47999954223633,\n",
       "  578.0430297851562,\n",
       "  263.95428466796875,\n",
       "  603.0089721679688,\n",
       "  'Occasionnellement échappée de culture, non naturalisée.\\nOrigine inconnue.',\n",
       "  18,\n",
       "  0)]"
      ]
     },
     "execution_count": 17,
     "metadata": {},
     "output_type": "execute_result"
    }
   ],
   "source": [
    "page.getTextBlocks()"
   ]
  },
  {
   "cell_type": "code",
   "execution_count": 18,
   "metadata": {},
   "outputs": [],
   "source": [
    "d = iter(doc)"
   ]
  },
  {
   "cell_type": "code",
   "execution_count": null,
   "metadata": {},
   "outputs": [],
   "source": [
    "next(d).getTextBlocks()"
   ]
  },
  {
   "cell_type": "code",
   "execution_count": null,
   "metadata": {},
   "outputs": [],
   "source": []
  },
  {
   "cell_type": "code",
   "execution_count": null,
   "metadata": {},
   "outputs": [],
   "source": [
    "doc[621].getTextBlocks()"
   ]
  },
  {
   "cell_type": "code",
   "execution_count": null,
   "metadata": {},
   "outputs": [],
   "source": [
    "doc[621].getText()"
   ]
  },
  {
   "cell_type": "code",
   "execution_count": null,
   "metadata": {},
   "outputs": [],
   "source": [
    "page.getFontList()"
   ]
  },
  {
   "cell_type": "code",
   "execution_count": null,
   "metadata": {},
   "outputs": [],
   "source": []
  }
 ],
 "metadata": {
  "kernelspec": {
   "display_name": "Python 3",
   "language": "python",
   "name": "python3"
  },
  "language_info": {
   "codemirror_mode": {
    "name": "ipython",
    "version": 3
   },
   "file_extension": ".py",
   "mimetype": "text/x-python",
   "name": "python",
   "nbconvert_exporter": "python",
   "pygments_lexer": "ipython3",
   "version": "3.7.4"
  }
 },
 "nbformat": 4,
 "nbformat_minor": 2
}
